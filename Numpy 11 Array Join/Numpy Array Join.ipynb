{
 "cells": [
  {
   "cell_type": "markdown",
   "id": "0e41732a",
   "metadata": {},
   "source": [
    "# Numpy Joining Array"
   ]
  },
  {
   "cell_type": "markdown",
   "id": "0c39d970",
   "metadata": {},
   "source": [
    "#### @jabedkhanjb"
   ]
  },
  {
   "cell_type": "markdown",
   "id": "c545106d",
   "metadata": {},
   "source": [
    "# Joining NumPy Arrays\n",
    "\n",
    "Joining means putting contents of two or more arrays in a single array.\n",
    "\n",
    "In SQL we join tables based on a key, whereas in NumPy we join arrays by axes.\n",
    "\n",
    "We pass a sequence of arrays that we want to join to the \"concatenate()\" function, along with the axis. If axis is not explicitly passed, it is taken as 0."
   ]
  },
  {
   "cell_type": "markdown",
   "id": "c521fa93",
   "metadata": {},
   "source": [
    "<i>Join two arrays</i>"
   ]
  },
  {
   "cell_type": "code",
   "execution_count": 2,
   "id": "93ecbf61",
   "metadata": {},
   "outputs": [
    {
     "name": "stdout",
     "output_type": "stream",
     "text": [
      "[1 2 3 4 5 6]\n"
     ]
    }
   ],
   "source": [
    "import numpy as np\n",
    "\n",
    "arr1 = np.array([1, 2, 3])\n",
    "arr2 = np.array([4, 5, 6])\n",
    "\n",
    "myarray = np.concatenate((arr1, arr2))\n",
    "print(myarray)"
   ]
  },
  {
   "cell_type": "markdown",
   "id": "e5586bd4",
   "metadata": {},
   "source": [
    "<i>Join two 2-D arrays along rows (axis=1):</i>"
   ]
  },
  {
   "cell_type": "code",
   "execution_count": 20,
   "id": "4f53d41f",
   "metadata": {},
   "outputs": [
    {
     "name": "stdout",
     "output_type": "stream",
     "text": [
      "[[1 2 5 6]\n",
      " [3 4 7 8]]\n"
     ]
    }
   ],
   "source": [
    "import numpy as np\n",
    "\n",
    "arr1 = np.array([[1, 2], [3, 4]])\n",
    "\n",
    "arr2 = np.array([[5, 6], [7, 8]])\n",
    "\n",
    "arr = np.concatenate((arr1, arr2), axis=1)\n",
    "\n",
    "print(arr) "
   ]
  },
  {
   "cell_type": "markdown",
   "id": "d38ce70a",
   "metadata": {},
   "source": [
    "# Joining Arrays Using Stack Functions\n",
    "\n",
    "Stacking is same as concatenation, the only difference is that stacking is done along a new axis.\n",
    "\n",
    "We can concatenate two 1-D arrays along the second axis which would result in putting them one over the other, ie. stacking.\n",
    "\n",
    "We pass a sequence of arrays that we want to join to the \"stack()\" method along with the axis. If axis is not explicitly passed it is taken as 0."
   ]
  },
  {
   "cell_type": "code",
   "execution_count": 2,
   "id": "db6aaed9",
   "metadata": {},
   "outputs": [
    {
     "name": "stdout",
     "output_type": "stream",
     "text": [
      "[[1 4]\n",
      " [2 5]\n",
      " [3 6]]\n"
     ]
    }
   ],
   "source": [
    "import numpy as np\n",
    "\n",
    "arr1 = np.array([1, 2, 3])\n",
    "\n",
    "arr2 = np.array([4, 5, 6])\n",
    "\n",
    "arr = np.stack((arr1, arr2), axis = 1)\n",
    "\n",
    "print(arr)"
   ]
  },
  {
   "cell_type": "markdown",
   "id": "f4288537",
   "metadata": {},
   "source": [
    "# Stacking Along Rows\n",
    "\n",
    "NumPy provides a helper function: \"hstack()\" to stack along rows."
   ]
  },
  {
   "cell_type": "code",
   "execution_count": 24,
   "id": "0e4ffc88",
   "metadata": {},
   "outputs": [
    {
     "name": "stdout",
     "output_type": "stream",
     "text": [
      "[1 2 3 4 5 6]\n"
     ]
    }
   ],
   "source": [
    "import numpy as np\n",
    "\n",
    "arr1 = np.array([1, 2, 3])\n",
    "\n",
    "arr2 = np.array([4, 5, 6])\n",
    "\n",
    "arr = np.hstack((arr1, arr2))\n",
    "\n",
    "print(arr) "
   ]
  },
  {
   "cell_type": "markdown",
   "id": "637b4180",
   "metadata": {},
   "source": [
    "#### Note:\n",
    "Here there is not visual difference between concatenate and hstack while using a 1D Array. there could be any changes in 2D Array. we will see that in further codes."
   ]
  },
  {
   "cell_type": "markdown",
   "id": "9ec86c48",
   "metadata": {},
   "source": [
    "# Stacking Along Columns\n",
    "\n",
    "NumPy provides a helper function: \"vstack()\"  to stack along columns."
   ]
  },
  {
   "cell_type": "code",
   "execution_count": 30,
   "id": "c304cc94",
   "metadata": {},
   "outputs": [
    {
     "name": "stdout",
     "output_type": "stream",
     "text": [
      "1-D Array\n",
      "[1 2 3 4 5 6]\n"
     ]
    }
   ],
   "source": [
    "import numpy as np\n",
    "\n",
    "arr1 = np.array([1, 2, 3])\n",
    "\n",
    "arr2 = np.array([4, 5, 6])\n",
    "\n",
    "arr = np.concatenate((arr1, arr2))\n",
    "\n",
    "print(f\"{arr.ndim}-D Array\")\n",
    "print(arr)"
   ]
  },
  {
   "cell_type": "markdown",
   "id": "5d469827",
   "metadata": {},
   "source": [
    "# Stacking Along Height (depth)\n",
    "\n",
    "NumPy provides a helper function: dstack() to stack along height, which is the same as depth."
   ]
  },
  {
   "cell_type": "code",
   "execution_count": 33,
   "id": "a2a1ba51",
   "metadata": {},
   "outputs": [
    {
     "name": "stdout",
     "output_type": "stream",
     "text": [
      "[[[1 4]\n",
      "  [2 5]\n",
      "  [3 6]]]\n"
     ]
    }
   ],
   "source": [
    "import numpy as np\n",
    "\n",
    "arr1 = np.array([1, 2, 3])\n",
    "\n",
    "arr2 = np.array([4, 5, 6])\n",
    "\n",
    "arr = np.dstack((arr1, arr2))\n",
    "\n",
    "print(arr) "
   ]
  },
  {
   "cell_type": "markdown",
   "id": "c5ff7bcc",
   "metadata": {},
   "source": [
    "So, dstack convert the code into 3D Array"
   ]
  },
  {
   "cell_type": "markdown",
   "id": "7d19d142",
   "metadata": {},
   "source": [
    "##### Coded by Mahfuz Islam Khan Jabed\n",
    "@jabedkhanjb"
   ]
  },
  {
   "cell_type": "code",
   "execution_count": null,
   "id": "72766a0b",
   "metadata": {},
   "outputs": [],
   "source": []
  }
 ],
 "metadata": {
  "kernelspec": {
   "display_name": "Python 3 (ipykernel)",
   "language": "python",
   "name": "python3"
  },
  "language_info": {
   "codemirror_mode": {
    "name": "ipython",
    "version": 3
   },
   "file_extension": ".py",
   "mimetype": "text/x-python",
   "name": "python",
   "nbconvert_exporter": "python",
   "pygments_lexer": "ipython3",
   "version": "3.9.13"
  }
 },
 "nbformat": 4,
 "nbformat_minor": 5
}
