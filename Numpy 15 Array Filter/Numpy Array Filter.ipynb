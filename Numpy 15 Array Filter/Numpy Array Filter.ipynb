{
 "cells": [
  {
   "cell_type": "markdown",
   "id": "64190324",
   "metadata": {},
   "source": [
    "# Numpy Array Filter"
   ]
  },
  {
   "cell_type": "markdown",
   "id": "4c3b8a35",
   "metadata": {},
   "source": [
    "#### @jabedkhanjb"
   ]
  },
  {
   "cell_type": "markdown",
   "id": "61d3270f",
   "metadata": {},
   "source": [
    "# Filtering Arrays\n",
    "\n",
    "Getting some elements out of an existing array and creating a new array out of them is called filtering.\n",
    "\n",
    "In NumPy, you filter an array using a boolean index list.\n",
    "\n",
    "<i>A boolean index list is a list of booleans corresponding to indexes in the array.</i>\n",
    "\n",
    "If the value at an index is <b>True</b> that element is contained in the filtered array, if the value at that index is <b>False</b> that element is excluded from the filtered array."
   ]
  },
  {
   "cell_type": "markdown",
   "id": "8fefe7ae",
   "metadata": {},
   "source": [
    "<i>Create an array from the elements on index 0 and 2:</i>"
   ]
  },
  {
   "cell_type": "code",
   "execution_count": 1,
   "id": "982ace2e",
   "metadata": {},
   "outputs": [
    {
     "name": "stdout",
     "output_type": "stream",
     "text": [
      "[41 43 44]\n"
     ]
    }
   ],
   "source": [
    "import numpy as np\n",
    "arr = np.array([41, 42, 43, 44])\n",
    "x = [True, False, True, True]\n",
    "\n",
    "newarr = arr[x]\n",
    "print(newarr)"
   ]
  },
  {
   "cell_type": "markdown",
   "id": "a5f85ab1",
   "metadata": {},
   "source": [
    "The example above will return <b>[41, 43]</b>, why?\n",
    "\n",
    "Because the new array contains only the values where the filter array had the value <b>True</b>, in this case, index 0 and 2."
   ]
  },
  {
   "cell_type": "markdown",
   "id": "85732c52",
   "metadata": {},
   "source": [
    "# Creating the Filter Array\n",
    "\n",
    "In the example above we hard-coded the <b>True</b> and <b>False</b> values, but the common use is to create a filter array based on conditions."
   ]
  },
  {
   "cell_type": "markdown",
   "id": "f14c1a44",
   "metadata": {},
   "source": [
    "<i><b>create a filter array that will return only values higher than n number</b></i>"
   ]
  },
  {
   "cell_type": "code",
   "execution_count": 2,
   "id": "adbf6fcd",
   "metadata": {},
   "outputs": [
    {
     "name": "stdout",
     "output_type": "stream",
     "text": [
      "[False, False, False, False, True, True, True, True, True, True]\n",
      "[15 16 17 18 19 20]\n"
     ]
    }
   ],
   "source": [
    "import numpy as np\n",
    "\n",
    "arr = np.array([10, 12, 13, 14, 15, 16, 17, 18, 19, 20])\n",
    "# create an empty list\n",
    "filtration = []\n",
    "\n",
    "# go through each element in arr\n",
    "for element in arr:\n",
    "    \"\"\"if the element is higher than 14, set the value to True,\n",
    "        Otherwise False. And add them in filtration list using 'append'\"\"\"\n",
    "    if element > 14:\n",
    "        filtration.append(True)\n",
    "    else:\n",
    "        filtration.append(False)\n",
    "        \n",
    "newarray = arr[filtration]\n",
    "        \n",
    "print(filtration)\n",
    "print(newarray)"
   ]
  },
  {
   "cell_type": "markdown",
   "id": "b8054763",
   "metadata": {},
   "source": [
    "<i><b>Create a filter array that will return only even elements from the original array:</b></i>"
   ]
  },
  {
   "cell_type": "code",
   "execution_count": 6,
   "id": "ed0d2d80",
   "metadata": {},
   "outputs": [
    {
     "name": "stdout",
     "output_type": "stream",
     "text": [
      "[False, True, False, True, False, True, False, True, False, True]\n",
      "[ 2  4  6  8 10]\n"
     ]
    }
   ],
   "source": [
    "import numpy as np\n",
    "\n",
    "arr = np.array([1, 2, 3, 4, 5, 6, 7, 8, 9, 10])\n",
    "\n",
    "filtration = []\n",
    "\n",
    "for numbers in arr:\n",
    "    if numbers % 2 == 0: # even\n",
    "        filtration.append(True)\n",
    "    else: # false\n",
    "        filtration.append(False)\n",
    "        \n",
    "newarray = arr[filtration]\n",
    "\n",
    "print(filtration)\n",
    "print(newarray)"
   ]
  },
  {
   "cell_type": "markdown",
   "id": "25d35d59",
   "metadata": {},
   "source": [
    "# Creating Filter Directly From Array\n",
    "\n",
    "The above example is quite a common task in NumPy and NumPy provides a nice way to tackle it.\n",
    "\n",
    "We can directly substitute the array instead of the iterable variable in our condition and it will work just as we expect it to."
   ]
  },
  {
   "cell_type": "markdown",
   "id": "d0244fae",
   "metadata": {},
   "source": [
    "<i><b>Create a filter array that will return only values higher than n number:</b></i>"
   ]
  },
  {
   "cell_type": "code",
   "execution_count": 9,
   "id": "8d6d5864",
   "metadata": {},
   "outputs": [
    {
     "name": "stdout",
     "output_type": "stream",
     "text": [
      "[False False False  True  True  True]\n",
      "[53 54 55]\n"
     ]
    }
   ],
   "source": [
    "import numpy as np\n",
    "\n",
    "arr = np.array([50, 51, 52, 53, 54, 55])\n",
    "\n",
    "filtration = arr > 52\n",
    "\n",
    "newarr = arr[filtration]\n",
    "\n",
    "print(filtration)\n",
    "print(newarr)"
   ]
  },
  {
   "cell_type": "code",
   "execution_count": null,
   "id": "3deb6ccd",
   "metadata": {},
   "outputs": [],
   "source": []
  }
 ],
 "metadata": {
  "kernelspec": {
   "display_name": "Python 3 (ipykernel)",
   "language": "python",
   "name": "python3"
  },
  "language_info": {
   "codemirror_mode": {
    "name": "ipython",
    "version": 3
   },
   "file_extension": ".py",
   "mimetype": "text/x-python",
   "name": "python",
   "nbconvert_exporter": "python",
   "pygments_lexer": "ipython3",
   "version": "3.9.13"
  },
  "vscode": {
   "interpreter": {
    "hash": "d1f08592043555f5f6b5a69ae21320c6096ca2470dcf4c033163e9b1094dbffd"
   }
  }
 },
 "nbformat": 4,
 "nbformat_minor": 5
}
