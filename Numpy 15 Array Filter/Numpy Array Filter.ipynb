{
 "cells": [
  {
   "cell_type": "markdown",
   "id": "64190324",
   "metadata": {},
   "source": [
    "# Numpy Array Filter"
   ]
  },
  {
   "cell_type": "markdown",
   "id": "4c3b8a35",
   "metadata": {},
   "source": [
    "#### @jabedkhanjb"
   ]
  },
  {
   "cell_type": "markdown",
   "id": "06285d31",
   "metadata": {},
   "source": [
    "# Filtering Arrays\n",
    "\n",
    "Getting some elements out of an existing array and creating a new array out of them is called filtering.\n",
    "\n",
    "In NumPy, you filter an array using a boolean index list.\n",
    "\n",
    "<i>A boolean index list is a list of booleans corresponding to indexes in the array.</i>\n",
    "\n",
    "If the value at an index is <b>True</b> that element is contained in the filtered array, if the value at that index is <b>False</b> that element is excluded from the filtered array."
   ]
  },
  {
   "cell_type": "markdown",
   "id": "d46c0f65",
   "metadata": {},
   "source": [
    "<i>Create an array from the elements on index 0 and 2:</i>"
   ]
  },
  {
   "cell_type": "code",
   "execution_count": 1,
   "id": "eaa0369f",
   "metadata": {},
   "outputs": [
    {
     "name": "stdout",
     "output_type": "stream",
     "text": [
      "[41 43 44]\n"
     ]
    }
   ],
   "source": [
    "import numpy as np\n",
    "arr = np.array([41, 42, 43, 44])\n",
    "x = [True, False, True, True]\n",
    "\n",
    "newarr = arr[x]\n",
    "print(newarr)"
   ]
  },
  {
   "cell_type": "markdown",
   "id": "5b993bf5",
   "metadata": {},
   "source": [
    "The example above will return <b>[41, 43]</b>, why?\n",
    "\n",
    "Because the new array contains only the values where the filter array had the value <b>True</b>, in this case, index 0 and 2."
   ]
  },
  {
   "cell_type": "markdown",
   "id": "8865e176",
   "metadata": {},
   "source": [
    "# Creating the Filter Array\n",
    "\n",
    "In the example above we hard-coded the <b>True</b> and <b>False</b> values, but the common use is to create a filter array based on conditions."
   ]
  },
  {
   "cell_type": "markdown",
   "id": "f951ac1b",
   "metadata": {},
   "source": [
    "<i><b>create a filter array that will return only values higher than n number</b></i>"
   ]
  },
  {
   "cell_type": "code",
   "execution_count": 2,
   "id": "a702d3a5",
   "metadata": {},
   "outputs": [
    {
     "name": "stdout",
     "output_type": "stream",
     "text": [
      "[False, False, False, False, True, True, True, True, True, True]\n",
      "[15 16 17 18 19 20]\n"
     ]
    }
   ],
   "source": [
    "import numpy as np\n",
    "\n",
    "arr = np.array([10, 12, 13, 14, 15, 16, 17, 18, 19, 20])\n",
    "# create an empty list\n",
    "filtration = []\n",
    "\n",
    "# go through each element in arr\n",
    "for element in arr:\n",
    "    \"\"\"if the element is higher than 14, set the value to True,\n",
    "        Otherwise False. And add them in filtration list using 'append'\"\"\"\n",
    "    if element > 14:\n",
    "        filtration.append(True)\n",
    "    else:\n",
    "        filtration.append(False)\n",
    "        \n",
    "newarray = arr[filtration]\n",
    "        \n",
    "print(filtration)\n",
    "print(newarray)"
   ]
  },
  {
   "cell_type": "markdown",
   "id": "ca266b24",
   "metadata": {},
   "source": [
    "<i><b>Create a filter array that will return only even elements from the original array:</b></i>"
   ]
  },
  {
   "cell_type": "code",
   "execution_count": 6,
   "id": "d522935e",
   "metadata": {},
   "outputs": [
    {
     "name": "stdout",
     "output_type": "stream",
     "text": [
      "[False, True, False, True, False, True, False, True, False, True]\n",
      "[ 2  4  6  8 10]\n"
     ]
    }
   ],
   "source": [
    "import numpy as np\n",
    "\n",
    "arr = np.array([1, 2, 3, 4, 5, 6, 7, 8, 9, 10])\n",
    "\n",
    "filtration = []\n",
    "\n",
    "for numbers in arr:\n",
    "    if numbers % 2 == 0: # even\n",
    "        filtration.append(True)\n",
    "    else: # false\n",
    "        filtration.append(False)\n",
    "        \n",
    "newarray = arr[filtration]\n",
    "\n",
    "print(filtration)\n",
    "print(newarray)"
   ]
  },
  {
   "cell_type": "markdown",
   "id": "5fca4c2b",
   "metadata": {},
   "source": [
    "# Creating Filter Directly From Array\n",
    "\n",
    "The above example is quite a common task in NumPy and NumPy provides a nice way to tackle it.\n",
    "\n",
    "We can directly substitute the array instead of the iterable variable in our condition and it will work just as we expect it to."
   ]
  },
  {
   "cell_type": "markdown",
   "id": "df097ce2",
   "metadata": {},
   "source": [
    "<i><b>Create a filter array that will return only values higher than n number:</b></i>"
   ]
  },
  {
   "cell_type": "code",
   "execution_count": 9,
   "id": "7f022bd4",
   "metadata": {},
   "outputs": [
    {
     "name": "stdout",
     "output_type": "stream",
     "text": [
      "[False False False  True  True  True]\n",
      "[53 54 55]\n"
     ]
    }
   ],
   "source": [
    "import numpy as np\n",
    "\n",
    "arr = np.array([50, 51, 52, 53, 54, 55])\n",
    "\n",
    "filtration = arr > 52\n",
    "\n",
    "newarr = arr[filtration]\n",
    "\n",
    "print(filtration)\n",
    "print(newarr)"
   ]
  },
  {
   "cell_type": "markdown",
   "id": "aee59d1f",
   "metadata": {},
   "source": [
    "<i><b>Create a filter array that will return only even or odd number as per instruction</b></i>"
   ]
  },
  {
   "cell_type": "code",
   "execution_count": 16,
   "id": "553abaa8",
   "metadata": {},
   "outputs": [
    {
     "name": "stdout",
     "output_type": "stream",
     "text": [
      "[False  True  True False False False  True  True False False  True  True\n",
      "  True  True False  True  True  True  True False]\n",
      "[6 2 6 4 8 2 8 4 4 6 6 4]\n"
     ]
    }
   ],
   "source": [
    "import numpy as np\n",
    "\n",
    "arr = np.array([5,6,2,7,7,3,6,4,5,3,8,2,8,4,7,4,6,6,4,7])\n",
    "\n",
    "filtration = arr % 2 == 0 # if 0, it would be even. if 1, then odd\n",
    "\n",
    "newarray = arr[filtration]\n",
    "\n",
    "print(filtration)\n",
    "print(newarray)"
   ]
  },
  {
   "cell_type": "markdown",
   "id": "d3ae0ca2",
   "metadata": {},
   "source": [
    "# Numpy Array Chapter End. "
   ]
  },
  {
   "cell_type": "code",
   "execution_count": null,
   "id": "7fc74f20",
   "metadata": {},
   "outputs": [],
   "source": []
  }
 ],
 "metadata": {
  "kernelspec": {
   "display_name": "Python 3 (ipykernel)",
   "language": "python",
   "name": "python3"
  },
  "language_info": {
   "codemirror_mode": {
    "name": "ipython",
    "version": 3
   },
   "file_extension": ".py",
   "mimetype": "text/x-python",
   "name": "python",
   "nbconvert_exporter": "python",
   "pygments_lexer": "ipython3",
   "version": "3.9.13"
  },
  "vscode": {
   "interpreter": {
    "hash": "d1f08592043555f5f6b5a69ae21320c6096ca2470dcf4c033163e9b1094dbffd"
   }
  }
 },
 "nbformat": 4,
 "nbformat_minor": 5
}
