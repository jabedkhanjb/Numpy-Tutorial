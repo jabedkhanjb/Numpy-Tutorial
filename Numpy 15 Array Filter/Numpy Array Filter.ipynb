{
 "cells": [
  {
   "attachments": {},
   "cell_type": "markdown",
   "id": "64190324",
   "metadata": {},
   "source": [
    "# Numpy Array Filter"
   ]
  },
  {
   "attachments": {},
   "cell_type": "markdown",
   "id": "4c3b8a35",
   "metadata": {},
   "source": [
    "#### @jabedkhanjb"
   ]
  },
  {
   "cell_type": "code",
   "execution_count": 1,
   "id": "8fe0700d",
   "metadata": {},
   "outputs": [
    {
     "name": "stdout",
     "output_type": "stream",
     "text": [
      "Hello World\n"
     ]
    }
   ],
   "source": [
    "print(\"Hello World\")"
   ]
  }
 ],
 "metadata": {
  "kernelspec": {
   "display_name": "Python 3",
   "language": "python",
   "name": "python3"
  },
  "language_info": {
   "codemirror_mode": {
    "name": "ipython",
    "version": 3
   },
   "file_extension": ".py",
   "mimetype": "text/x-python",
   "name": "python",
   "nbconvert_exporter": "python",
   "pygments_lexer": "ipython3",
   "version": "3.11.1"
  },
  "vscode": {
   "interpreter": {
    "hash": "d1f08592043555f5f6b5a69ae21320c6096ca2470dcf4c033163e9b1094dbffd"
   }
  }
 },
 "nbformat": 4,
 "nbformat_minor": 5
}
