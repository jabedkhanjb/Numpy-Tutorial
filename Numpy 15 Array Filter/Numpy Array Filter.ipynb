{
 "cells": [
  {
   "cell_type": "markdown",
   "id": "64190324",
   "metadata": {},
   "source": [
    "# Numpy Array Filter"
   ]
  },
  {
   "cell_type": "markdown",
   "id": "4c3b8a35",
   "metadata": {},
   "source": [
    "#### @jabedkhanjb"
   ]
  },
  {
   "cell_type": "markdown",
   "id": "b873f2c0",
   "metadata": {},
   "source": [
    "# Filtering Arrays\n",
    "\n",
    "Getting some elements out of an existing array and creating a new array out of them is called filtering.\n",
    "\n",
    "In NumPy, you filter an array using a boolean index list.\n",
    "\n",
    "<i>A boolean index list is a list of booleans corresponding to indexes in the array.</i>\n",
    "\n",
    "If the value at an index is <b>True</b> that element is contained in the filtered array, if the value at that index is <b>False</b> that element is excluded from the filtered array."
   ]
  },
  {
   "cell_type": "markdown",
   "id": "7c2fabb5",
   "metadata": {},
   "source": [
    "<i>Create an array from the elements on index 0 and 2:</i>"
   ]
  },
  {
   "cell_type": "code",
   "execution_count": 2,
   "id": "2b2ac435",
   "metadata": {},
   "outputs": [
    {
     "name": "stdout",
     "output_type": "stream",
     "text": [
      "[41 43 44]\n"
     ]
    }
   ],
   "source": [
    "import numpy as np\n",
    "arr = np.array([41, 42, 43, 44])\n",
    "x = [True, False, True, True]\n",
    "\n",
    "newarr = arr[x]\n",
    "print(newarr)"
   ]
  },
  {
   "cell_type": "markdown",
   "id": "c1cf025c",
   "metadata": {},
   "source": [
    "The example above will return <b>[41, 43]</b>, why?\n",
    "\n",
    "Because the new array contains only the values where the filter array had the value <b>True</b>, in this case, index 0 and 2."
   ]
  },
  {
   "cell_type": "markdown",
   "id": "501a134c",
   "metadata": {},
   "source": [
    "# Creating the Filter Array\n",
    "\n",
    "In the example above we hard-coded the <b>True</b> and <b>False</b> values, but the common use is to create a filter array based on conditions."
   ]
  },
  {
   "cell_type": "markdown",
   "id": "63173001",
   "metadata": {},
   "source": [
    "<i>create a filter array that will return only values higher than 42</i>"
   ]
  },
  {
   "cell_type": "code",
   "execution_count": 5,
   "id": "98cefe3f",
   "metadata": {},
   "outputs": [
    {
     "name": "stdout",
     "output_type": "stream",
     "text": [
      "[False, False, False, False, True, True, True, True, True, True]\n",
      "[15 16 17 18 19 20]\n"
     ]
    }
   ],
   "source": [
    "import numpy as np\n",
    "\n",
    "arr = np.array([10, 12, 13, 14, 15, 16, 17, 18, 19, 20])\n",
    "# create an empty list\n",
    "filtration = []\n",
    "\n",
    "# go through each element in arr\n",
    "for element in arr:\n",
    "    \"\"\"if the element is higher than 14, set the value to True,\n",
    "        Otherwise False. And add them in filtration list using 'append'\"\"\"\n",
    "    if element > 14:\n",
    "        filtration.append(True)\n",
    "    else:\n",
    "        filtration.append(False)\n",
    "        \n",
    "newarray = arr[filtration]\n",
    "        \n",
    "print(filtration)\n",
    "print(newarray)"
   ]
  },
  {
   "cell_type": "code",
   "execution_count": null,
   "id": "f7055623",
   "metadata": {},
   "outputs": [],
   "source": []
  }
 ],
 "metadata": {
  "kernelspec": {
   "display_name": "Python 3 (ipykernel)",
   "language": "python",
   "name": "python3"
  },
  "language_info": {
   "codemirror_mode": {
    "name": "ipython",
    "version": 3
   },
   "file_extension": ".py",
   "mimetype": "text/x-python",
   "name": "python",
   "nbconvert_exporter": "python",
   "pygments_lexer": "ipython3",
   "version": "3.9.13"
  },
  "vscode": {
   "interpreter": {
    "hash": "d1f08592043555f5f6b5a69ae21320c6096ca2470dcf4c033163e9b1094dbffd"
   }
  }
 },
 "nbformat": 4,
 "nbformat_minor": 5
}
