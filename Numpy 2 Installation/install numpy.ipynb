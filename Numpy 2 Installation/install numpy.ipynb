{
 "cells": [
  {
   "cell_type": "markdown",
   "id": "50c9bf33",
   "metadata": {},
   "source": [
    "# Numpy Installation"
   ]
  },
  {
   "cell_type": "markdown",
   "id": "435f1d5c",
   "metadata": {},
   "source": [
    "#### @jabedkhanjb"
   ]
  },
  {
   "cell_type": "markdown",
   "id": "93924312",
   "metadata": {},
   "source": [
    "Open your file directory then open the powershell command prompt on it. \n",
    "\n",
    "command: pip install numpy"
   ]
  },
  {
   "cell_type": "markdown",
   "id": "406b4737",
   "metadata": {},
   "source": [
    "### Check Numpy Version"
   ]
  },
  {
   "cell_type": "code",
   "execution_count": 1,
   "id": "b591a670",
   "metadata": {},
   "outputs": [
    {
     "name": "stdout",
     "output_type": "stream",
     "text": [
      "1.21.5\n"
     ]
    }
   ],
   "source": [
    "import numpy as np\n",
    "\n",
    "print(np.__version__)"
   ]
  },
  {
   "cell_type": "code",
   "execution_count": 2,
   "id": "4db8e025",
   "metadata": {},
   "outputs": [
    {
     "name": "stdout",
     "output_type": "stream",
     "text": [
      "[2 5 9 6 1 7 4 3 1]\n"
     ]
    }
   ],
   "source": [
    "values = [2, 5, 9, 6, 1, 7, 4, 3, 1]\n",
    "\n",
    "# since we have declared numpy as np in the previous code.\n",
    "# so we don't need to import numpy again.\n",
    "x = np.array(values)\n",
    "print(x)"
   ]
  },
  {
   "cell_type": "code",
   "execution_count": null,
   "id": "2b39a118",
   "metadata": {},
   "outputs": [],
   "source": []
  }
 ],
 "metadata": {
  "kernelspec": {
   "display_name": "Python 3 (ipykernel)",
   "language": "python",
   "name": "python3"
  },
  "language_info": {
   "codemirror_mode": {
    "name": "ipython",
    "version": 3
   },
   "file_extension": ".py",
   "mimetype": "text/x-python",
   "name": "python",
   "nbconvert_exporter": "python",
   "pygments_lexer": "ipython3",
   "version": "3.9.13"
  }
 },
 "nbformat": 4,
 "nbformat_minor": 5
}
