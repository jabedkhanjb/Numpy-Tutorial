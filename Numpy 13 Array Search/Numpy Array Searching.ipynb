{
 "cells": [
  {
   "cell_type": "markdown",
   "id": "88128516",
   "metadata": {},
   "source": [
    "# Numpy Array Searching\n"
   ]
  },
  {
   "cell_type": "markdown",
   "id": "272a17e3",
   "metadata": {},
   "source": [
    "#### @jabedkhanjb"
   ]
  },
  {
   "cell_type": "markdown",
   "id": "635947c1",
   "metadata": {},
   "source": [
    "# Searching Arrays\n",
    "\n",
    "You can search an array for a certain value, and return the indexes that get a match.\n",
    "\n",
    "To search an array, use the <b>where()</b> method."
   ]
  },
  {
   "cell_type": "markdown",
   "id": "75cb9c96",
   "metadata": {},
   "source": [
    "<i><b>Find the indexes where the value is n:</b></i>"
   ]
  },
  {
   "cell_type": "code",
   "execution_count": 2,
   "id": "c21a5582",
   "metadata": {},
   "outputs": [
    {
     "name": "stdout",
     "output_type": "stream",
     "text": [
      "(array([ 4,  9, 12], dtype=int64),)\n"
     ]
    }
   ],
   "source": [
    "import numpy as np\n",
    "myarray = np.array([1,2,3,4,5,6,7,8,9,5,7,9,5,7])\n",
    "newarray = np.where(myarray == 5)\n",
    "print(newarray)"
   ]
  },
  {
   "cell_type": "markdown",
   "id": "881911c6",
   "metadata": {},
   "source": [
    "Which means that the value n is present at index a, b, and c."
   ]
  },
  {
   "cell_type": "markdown",
   "id": "2a5b78ad",
   "metadata": {},
   "source": [
    "<i><b>Find the indexes where the values are odd:</b></i>"
   ]
  },
  {
   "cell_type": "code",
   "execution_count": 8,
   "id": "b4e12cfd",
   "metadata": {},
   "outputs": [
    {
     "name": "stdout",
     "output_type": "stream",
     "text": [
      "(array([1, 3], dtype=int64),)\n"
     ]
    }
   ],
   "source": [
    "import numpy as np\n",
    "# print(len(nmbrarr))\n",
    "myarray = np.array([2, 5, 8, 11])\n",
    "evenodd = np.where(myarray % 2 == 1) # for odd\n",
    "print(evenodd)\n",
    "\n"
   ]
  },
  {
   "cell_type": "markdown",
   "id": "a42954fc",
   "metadata": {},
   "source": [
    "# Search Sorted"
   ]
  },
  {
   "cell_type": "markdown",
   "id": "5706b51e",
   "metadata": {},
   "source": [
    "There is a method called <b>searchsorted()</b> which performs a binary search in the array, and returns the index where the specified value would be inserted to maintain the search order.\n",
    "\n",
    "<i><b>The searchsorted() method is assumed to be used on sorted arrays.</b></i>\n"
   ]
  },
  {
   "cell_type": "code",
   "execution_count": 32,
   "id": "8c4b1bfd",
   "metadata": {},
   "outputs": [
    {
     "name": "stdout",
     "output_type": "stream",
     "text": [
      "Number of length: 10\n",
      "8\n"
     ]
    }
   ],
   "source": [
    "import numpy as np\n",
    "arr = np.array([4, 2, 1, 3, 9, 5, 8, 6, 7, 1])\n",
    "x = np.searchsorted(arr, 7)\n",
    "print(f\"Number of length: {len(arr)}\")\n",
    "print(x)"
   ]
  },
  {
   "cell_type": "markdown",
   "id": "507395ee",
   "metadata": {},
   "source": [
    "Example explained: The number 7 should be inserted on index 1 to remain the sort order.\n",
    "\n",
    "The method starts the search from the left and returns the first index where the number 7 is no longer larger than the next value."
   ]
  },
  {
   "cell_type": "code",
   "execution_count": null,
   "id": "9cbe483f",
   "metadata": {},
   "outputs": [],
   "source": []
  }
 ],
 "metadata": {
  "kernelspec": {
   "display_name": "Python 3 (ipykernel)",
   "language": "python",
   "name": "python3"
  },
  "language_info": {
   "codemirror_mode": {
    "name": "ipython",
    "version": 3
   },
   "file_extension": ".py",
   "mimetype": "text/x-python",
   "name": "python",
   "nbconvert_exporter": "python",
   "pygments_lexer": "ipython3",
   "version": "3.9.13"
  }
 },
 "nbformat": 4,
 "nbformat_minor": 5
}
