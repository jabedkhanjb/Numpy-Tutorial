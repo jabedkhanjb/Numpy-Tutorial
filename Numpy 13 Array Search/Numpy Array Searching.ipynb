{
 "cells": [
  {
   "cell_type": "markdown",
   "id": "706027d0",
   "metadata": {},
   "source": [
    "# Numpy Array Searching\n"
   ]
  },
  {
   "cell_type": "markdown",
   "id": "6da81262",
   "metadata": {},
   "source": [
    "#### @jabedkhanjb"
   ]
  },
  {
   "cell_type": "markdown",
   "id": "9b2d70ba",
   "metadata": {},
   "source": [
    "# Searching Arrays\n",
    "\n",
    "You can search an array for a certain value, and return the indexes that get a match.\n",
    "\n",
    "To search an array, use the <b>where()</b> method."
   ]
  },
  {
   "cell_type": "markdown",
   "id": "910e3d5d",
   "metadata": {},
   "source": [
    "<i><b>Find the indexes where the value is n:</b></i>"
   ]
  },
  {
   "cell_type": "code",
   "execution_count": 2,
   "id": "468b5f6f",
   "metadata": {},
   "outputs": [
    {
     "name": "stdout",
     "output_type": "stream",
     "text": [
      "(array([ 4,  9, 12], dtype=int64),)\n"
     ]
    }
   ],
   "source": [
    "import numpy as np\n",
    "myarray = np.array([1,2,3,4,5,6,7,8,9,5,7,9,5,7])\n",
    "newarray = np.where(myarray == 5)\n",
    "print(newarray)"
   ]
  },
  {
   "cell_type": "markdown",
   "id": "462346fe",
   "metadata": {},
   "source": [
    "Which means that the value n is present at index a, b, and c."
   ]
  },
  {
   "cell_type": "markdown",
   "id": "1638a808",
   "metadata": {},
   "source": [
    "<i><b>Find the indexes where the values are odd:</b></i>"
   ]
  },
  {
   "cell_type": "code",
   "execution_count": 8,
   "id": "60e6bf0f",
   "metadata": {},
   "outputs": [
    {
     "name": "stdout",
     "output_type": "stream",
     "text": [
      "(array([1, 3], dtype=int64),)\n"
     ]
    }
   ],
   "source": [
    "import numpy as np\n",
    "# print(len(nmbrarr))\n",
    "myarray = np.array([2, 5, 8, 11])\n",
    "evenodd = np.where(myarray % 2 == 1) # for odd\n",
    "print(evenodd)\n",
    "\n"
   ]
  },
  {
   "cell_type": "markdown",
   "id": "1b2d4dfa",
   "metadata": {},
   "source": [
    "# Search Sorted"
   ]
  },
  {
   "cell_type": "markdown",
   "id": "c797d194",
   "metadata": {},
   "source": [
    "There is a method called <b>searchsorted()</b> which performs a binary search in the array, and returns the index where the specified value would be inserted to maintain the search order.\n",
    "\n",
    "<i><b>The searchsorted() method is assumed to be used on sorted arrays.</b></i>\n"
   ]
  },
  {
   "cell_type": "code",
   "execution_count": 46,
   "id": "1c7f3fa6",
   "metadata": {},
   "outputs": [
    {
     "name": "stdout",
     "output_type": "stream",
     "text": [
      "Number of length: 9\n",
      "8\n"
     ]
    }
   ],
   "source": [
    "import numpy as np\n",
    "arr = np.array([1,2,3,4,5,6,7,8,9])\n",
    "x = np.searchsorted(arr, 9)\n",
    "print(f\"Number of length: {len(arr)}\")\n",
    "print(x)"
   ]
  },
  {
   "cell_type": "markdown",
   "id": "b6f7cfc2",
   "metadata": {},
   "source": [
    "Example explained: The number n should be inserted on index n to remain the sort order.\n",
    "\n",
    "The method starts the search from the left and returns the first index where the number n is no longer larger than the next value."
   ]
  },
  {
   "cell_type": "markdown",
   "id": "a2f96fa0",
   "metadata": {},
   "source": [
    "# Search From the Right Side"
   ]
  },
  {
   "cell_type": "markdown",
   "id": "f8b6bd2e",
   "metadata": {},
   "source": [
    "<i>By default the left most index is returned, but we can give <b>side='right'</b> to return the right most index instead.</i>"
   ]
  },
  {
   "cell_type": "code",
   "execution_count": 50,
   "id": "f7891774",
   "metadata": {},
   "outputs": [
    {
     "name": "stdout",
     "output_type": "stream",
     "text": [
      "4\n"
     ]
    }
   ],
   "source": [
    "import numpy as np\n",
    "arr =  np.array([4,6,8,9])\n",
    "x = np.searchsorted(arr, 9, side=\"right\")\n",
    "print(x)"
   ]
  },
  {
   "cell_type": "markdown",
   "id": "b9ecfb90",
   "metadata": {},
   "source": [
    "Example explained: The number n should be inserted on index n to remain the sort order.\n",
    "\n",
    "The method starts the search from the right and returns the first index where the number n is no longer less than the next value."
   ]
  },
  {
   "cell_type": "markdown",
   "id": "e4e78700",
   "metadata": {},
   "source": [
    "# Multiple Values"
   ]
  },
  {
   "cell_type": "markdown",
   "id": "da0d2ec4",
   "metadata": {},
   "source": [
    "To search for more than one value, use an array with the specified values."
   ]
  },
  {
   "cell_type": "markdown",
   "id": "0e86b71c",
   "metadata": {},
   "source": [
    "<i><b>Find the indexes where the values 2, 4, and 6 should be inserted:</b></i>"
   ]
  },
  {
   "cell_type": "code",
   "execution_count": 64,
   "id": "481c40dc",
   "metadata": {},
   "outputs": [
    {
     "name": "stdout",
     "output_type": "stream",
     "text": [
      "[1 2 3]\n"
     ]
    }
   ],
   "source": [
    "import numpy as np\n",
    "\n",
    "arr = np.array([1, 3, 5, 7])\n",
    "\n",
    "x = np.searchsorted(arr, [2, 4, 6])\n",
    "\n",
    "print(x) "
   ]
  },
  {
   "cell_type": "markdown",
   "id": "2761abe2",
   "metadata": {},
   "source": [
    "The return value is an array: [1 2 3] containing the three indexes where 2, 4, 6 would be inserted in the original array to maintain the order."
   ]
  },
  {
   "cell_type": "code",
   "execution_count": null,
   "id": "0d317385",
   "metadata": {},
   "outputs": [],
   "source": []
  }
 ],
 "metadata": {
  "kernelspec": {
   "display_name": "Python 3 (ipykernel)",
   "language": "python",
   "name": "python3"
  },
  "language_info": {
   "codemirror_mode": {
    "name": "ipython",
    "version": 3
   },
   "file_extension": ".py",
   "mimetype": "text/x-python",
   "name": "python",
   "nbconvert_exporter": "python",
   "pygments_lexer": "ipython3",
   "version": "3.9.13"
  }
 },
 "nbformat": 4,
 "nbformat_minor": 5
}
