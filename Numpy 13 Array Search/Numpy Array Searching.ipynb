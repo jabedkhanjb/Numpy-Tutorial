{
 "cells": [
  {
   "cell_type": "markdown",
   "id": "8cd72684",
   "metadata": {},
   "source": [
    "# Numpy Array Searching\n"
   ]
  },
  {
   "cell_type": "markdown",
   "id": "e20aed0c",
   "metadata": {},
   "source": [
    "#### @jabedkhanjb"
   ]
  },
  {
   "cell_type": "markdown",
   "id": "de5ab4af",
   "metadata": {},
   "source": [
    "# Searching Arrays\n",
    "\n",
    "You can search an array for a certain value, and return the indexes that get a match.\n",
    "\n",
    "To search an array, use the <b>where()</b> method."
   ]
  },
  {
   "cell_type": "markdown",
   "id": "96c7ca87",
   "metadata": {},
   "source": [
    "<i><b>Find the indexes where the value is n:</b></i>"
   ]
  },
  {
   "cell_type": "code",
   "execution_count": 2,
   "id": "40e82f83",
   "metadata": {},
   "outputs": [
    {
     "name": "stdout",
     "output_type": "stream",
     "text": [
      "(array([ 4,  9, 12], dtype=int64),)\n"
     ]
    }
   ],
   "source": [
    "import numpy as np\n",
    "myarray = np.array([1,2,3,4,5,6,7,8,9,5,7,9,5,7])\n",
    "newarray = np.where(myarray == 5)\n",
    "print(newarray)"
   ]
  },
  {
   "cell_type": "markdown",
   "id": "ad8daaec",
   "metadata": {},
   "source": [
    "Which means that the value n is present at index a, b, and c."
   ]
  },
  {
   "cell_type": "markdown",
   "id": "389166fa",
   "metadata": {},
   "source": [
    "<i><b>Find the indexes where the values are odd:</b></i>"
   ]
  },
  {
   "cell_type": "code",
   "execution_count": 8,
   "id": "ed495d99",
   "metadata": {},
   "outputs": [
    {
     "name": "stdout",
     "output_type": "stream",
     "text": [
      "(array([1, 3], dtype=int64),)\n"
     ]
    }
   ],
   "source": [
    "import numpy as np\n",
    "# print(len(nmbrarr))\n",
    "myarray = np.array([2, 5, 8, 11])\n",
    "evenodd = np.where(myarray % 2 == 1) # for odd\n",
    "print(evenodd)\n",
    "\n"
   ]
  },
  {
   "cell_type": "markdown",
   "id": "ada0a532",
   "metadata": {},
   "source": [
    "# Search Sorted"
   ]
  },
  {
   "cell_type": "markdown",
   "id": "ab400911",
   "metadata": {},
   "source": [
    "There is a method called <b>searchsorted()</b> which performs a binary search in the array, and returns the index where the specified value would be inserted to maintain the search order.\n",
    "\n",
    "<i><b>The searchsorted() method is assumed to be used on sorted arrays.</b></i>\n"
   ]
  },
  {
   "cell_type": "code",
   "execution_count": 39,
   "id": "32bde161",
   "metadata": {},
   "outputs": [
    {
     "name": "stdout",
     "output_type": "stream",
     "text": [
      "Number of length: 11\n",
      "3\n"
     ]
    }
   ],
   "source": [
    "import numpy as np\n",
    "arr = np.array([4, 6, 1, 3, 9, 5, 8, 6, 7, 2, 1])\n",
    "x = np.searchsorted(arr, 2)\n",
    "print(f\"Number of length: {len(arr)}\")\n",
    "print(x)"
   ]
  },
  {
   "cell_type": "markdown",
   "id": "dc8102f6",
   "metadata": {},
   "source": [
    "Example explained: The number 7 should be inserted on index 1 to remain the sort order.\n",
    "\n",
    "The method starts the search from the left and returns the first index where the number 7 is no longer larger than the next value."
   ]
  },
  {
   "cell_type": "code",
   "execution_count": null,
   "id": "4da4a2b3",
   "metadata": {},
   "outputs": [],
   "source": []
  }
 ],
 "metadata": {
  "kernelspec": {
   "display_name": "Python 3 (ipykernel)",
   "language": "python",
   "name": "python3"
  },
  "language_info": {
   "codemirror_mode": {
    "name": "ipython",
    "version": 3
   },
   "file_extension": ".py",
   "mimetype": "text/x-python",
   "name": "python",
   "nbconvert_exporter": "python",
   "pygments_lexer": "ipython3",
   "version": "3.9.13"
  }
 },
 "nbformat": 4,
 "nbformat_minor": 5
}
