{
 "cells": [
  {
   "cell_type": "markdown",
   "id": "db0db5df",
   "metadata": {},
   "source": [
    "# Numpy Array Split"
   ]
  },
  {
   "cell_type": "markdown",
   "id": "2cc9d6eb",
   "metadata": {},
   "source": [
    "#### @jabedkhanjb"
   ]
  },
  {
   "cell_type": "markdown",
   "id": "400cece9",
   "metadata": {},
   "source": [
    "# Splitting NumPy Arrays\n",
    "\n",
    "Splitting is reverse operation of Joining.\n",
    "\n",
    "Joining merges multiple arrays into one and Splitting breaks one array into multiple.\n",
    "\n",
    "We use <b>array_split()</b> for splitting arrays, we pass it the array we want to split and the number of splits."
   ]
  },
  {
   "cell_type": "markdown",
   "id": "67c3cb02",
   "metadata": {},
   "source": [
    "<i>Split the array in 3 parts:</i>"
   ]
  },
  {
   "cell_type": "code",
   "execution_count": 8,
   "id": "5ca01aa2",
   "metadata": {},
   "outputs": [
    {
     "name": "stdout",
     "output_type": "stream",
     "text": [
      "[array([1, 2]), array([3, 4]), array([5, 6])]\n"
     ]
    }
   ],
   "source": [
    "import numpy as np\n",
    "\n",
    "arr = np.array([1, 2, 3, 4, 5, 6])\n",
    "\n",
    "newarr = np.array_split(arr, 3)\n",
    "\n",
    "print(newarr) "
   ]
  },
  {
   "cell_type": "markdown",
   "id": "bac81822",
   "metadata": {},
   "source": [
    "\n",
    "\n",
    "<b>Note:</b> The return value is an array containing three arrays.\n"
   ]
  },
  {
   "cell_type": "markdown",
   "id": "0567819c",
   "metadata": {},
   "source": [
    "If the array has less elements than required, it will adjust from the end accordingly."
   ]
  },
  {
   "cell_type": "markdown",
   "id": "6dea64ac",
   "metadata": {},
   "source": [
    "<i>Split the array in 4 parts:</i>"
   ]
  },
  {
   "cell_type": "code",
   "execution_count": 11,
   "id": "b264ade2",
   "metadata": {},
   "outputs": [
    {
     "name": "stdout",
     "output_type": "stream",
     "text": [
      "[array([1, 2]), array([3, 4]), array([5]), array([6])]\n"
     ]
    }
   ],
   "source": [
    "import numpy as np\n",
    "\n",
    "arr = np.array([1,2,3,4,5,6])\n",
    "\n",
    "newarr = np.array_split(arr, 4)\n",
    "print(newarr)"
   ]
  },
  {
   "cell_type": "markdown",
   "id": "d1d377e9",
   "metadata": {},
   "source": [
    "<b>Note:</b> We also have the method <b>split()</b> available but it will not adjust the elements when elements are less in source array for splitting like in example above, <b>array_split()</b> worked properly but <b>split()</b> would fail."
   ]
  },
  {
   "cell_type": "markdown",
   "id": "55dd5f78",
   "metadata": {},
   "source": [
    "# Split Into Arrays\n",
    "\n",
    "The return value of the <b>array_split()</b> method is an array containing each of the split as an array.\n",
    "\n",
    "If you split an array into 3 arrays, you can access them from the result just like any array element:\n",
    "Example"
   ]
  },
  {
   "cell_type": "markdown",
   "id": "0e9d85d8",
   "metadata": {},
   "source": [
    "<i>Access the splitted arrays:</i>"
   ]
  },
  {
   "cell_type": "code",
   "execution_count": 13,
   "id": "d057cd0c",
   "metadata": {},
   "outputs": [
    {
     "name": "stdout",
     "output_type": "stream",
     "text": [
      "[1 2]\n",
      "[3 4]\n",
      "[5 6]\n",
      "[7 8]\n"
     ]
    }
   ],
   "source": [
    "import numpy as np\n",
    "\n",
    "arr = np.array([1,2,3,4,5,6,7,8])\n",
    "\n",
    "newarr = np.array_split(arr, 4)\n",
    "print(newarr[0])\n",
    "print(newarr[1])\n",
    "print(newarr[2])\n",
    "print(newarr[3])"
   ]
  },
  {
   "cell_type": "markdown",
   "id": "3fbccc34",
   "metadata": {},
   "source": [
    "# Splitting 2-D Arrays\n",
    "\n",
    "Use the same syntax when splitting 2-D arrays.\n",
    "\n",
    "Use the <b>array_split()</b> method, pass in the array you want to split and the number of splits you want to do."
   ]
  },
  {
   "cell_type": "code",
   "execution_count": 25,
   "id": "e4e2153e",
   "metadata": {},
   "outputs": [
    {
     "name": "stdout",
     "output_type": "stream",
     "text": [
      "[array([[1, 2, 3],\n",
      "       [4, 5, 6]]), array([[7, 8, 9]]), array([[10, 11, 12]])]\n"
     ]
    }
   ],
   "source": [
    "import numpy as np\n",
    "arr = np.array([[1,2,3], [4,5,6], [7,8,9], [10,11,12]])\n",
    "newarr = np.array_split(arr,3)\n",
    "print(newarr)"
   ]
  },
  {
   "cell_type": "markdown",
   "id": "8e56f7d3",
   "metadata": {},
   "source": [
    "The example above returns three 2-D arrays.\n",
    "\n",
    "In addition, you can specify which axis you want to do the split around.\n",
    "\n",
    "The example below also returns three 2-D arrays, but they are split along the row (axis=1)."
   ]
  },
  {
   "cell_type": "markdown",
   "id": "7142b751",
   "metadata": {},
   "source": [
    "<i>Split the 2-D array into three 2-D arrays along rows.</i>"
   ]
  },
  {
   "cell_type": "code",
   "execution_count": 27,
   "id": "bd34128a",
   "metadata": {},
   "outputs": [
    {
     "name": "stdout",
     "output_type": "stream",
     "text": [
      "[[ 1  2  3]\n",
      " [ 4  5  6]\n",
      " [ 7  8  9]\n",
      " [10 11 12]\n",
      " [13 14 15]\n",
      " [16 17 18]]\n"
     ]
    }
   ],
   "source": [
    "arr2 = np.array([[13,14,15], [16,17,18]])\n",
    "myarray = np.concatenate((arr, arr2))\n",
    "print(myarray)"
   ]
  },
  {
   "cell_type": "markdown",
   "id": "9dd64f96",
   "metadata": {},
   "source": [
    "so in this code above, we used array joining function call concatenate to add one more array with out previous array."
   ]
  },
  {
   "cell_type": "code",
   "execution_count": 31,
   "id": "d40f6d22",
   "metadata": {},
   "outputs": [
    {
     "name": "stdout",
     "output_type": "stream",
     "text": [
      "[array([[ 1],\n",
      "       [ 4],\n",
      "       [ 7],\n",
      "       [10],\n",
      "       [13],\n",
      "       [16]]), array([[ 2],\n",
      "       [ 5],\n",
      "       [ 8],\n",
      "       [11],\n",
      "       [14],\n",
      "       [17]]), array([[ 3],\n",
      "       [ 6],\n",
      "       [ 9],\n",
      "       [12],\n",
      "       [15],\n",
      "       [18]])]\n"
     ]
    }
   ],
   "source": [
    "newarray = np.array_split(myarray, 3, axis = 1)\n",
    "print(newarray)"
   ]
  },
  {
   "cell_type": "markdown",
   "id": "8e4de532",
   "metadata": {},
   "source": [
    "An alternate solution is using hsplit() opposite of hstack()"
   ]
  },
  {
   "cell_type": "markdown",
   "id": "a0e54e86",
   "metadata": {},
   "source": [
    "<i>Use the hsplit() method to split the 2-D array into three 2-D arrays along rows.</i>"
   ]
  },
  {
   "cell_type": "code",
   "execution_count": 34,
   "id": "9647d8a0",
   "metadata": {},
   "outputs": [
    {
     "name": "stdout",
     "output_type": "stream",
     "text": [
      "[[ 1  2  3]\n",
      " [ 4  5  6]\n",
      " [ 7  8  9]\n",
      " [10 11 12]\n",
      " [13 14 15]\n",
      " [16 17 18]]\n",
      "[array([[ 1],\n",
      "       [ 4],\n",
      "       [ 7],\n",
      "       [10],\n",
      "       [13],\n",
      "       [16]]), array([[ 2],\n",
      "       [ 5],\n",
      "       [ 8],\n",
      "       [11],\n",
      "       [14],\n",
      "       [17]]), array([[ 3],\n",
      "       [ 6],\n",
      "       [ 9],\n",
      "       [12],\n",
      "       [15],\n",
      "       [18]])]\n"
     ]
    }
   ],
   "source": [
    "import numpy as np\n",
    "\n",
    "arr = np.array([myarray])\n",
    "print(myarray)\n",
    "newhsplit = np.hsplit(myarray, 3)\n",
    "print(newhsplit)"
   ]
  },
  {
   "cell_type": "markdown",
   "id": "46b6776d",
   "metadata": {},
   "source": [
    "Note: Similar alternates to vstack() and dstack() are available as vsplit() and dsplit()."
   ]
  },
  {
   "cell_type": "code",
   "execution_count": null,
   "id": "9841d945",
   "metadata": {},
   "outputs": [],
   "source": []
  }
 ],
 "metadata": {
  "kernelspec": {
   "display_name": "Python 3 (ipykernel)",
   "language": "python",
   "name": "python3"
  },
  "language_info": {
   "codemirror_mode": {
    "name": "ipython",
    "version": 3
   },
   "file_extension": ".py",
   "mimetype": "text/x-python",
   "name": "python",
   "nbconvert_exporter": "python",
   "pygments_lexer": "ipython3",
   "version": "3.9.13"
  }
 },
 "nbformat": 4,
 "nbformat_minor": 5
}
