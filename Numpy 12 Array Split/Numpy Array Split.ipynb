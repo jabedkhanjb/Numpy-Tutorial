{
 "cells": [
  {
   "cell_type": "markdown",
   "id": "7aca8e73",
   "metadata": {},
   "source": [
    "# Numpy Array Split"
   ]
  },
  {
   "cell_type": "markdown",
   "id": "03222033",
   "metadata": {},
   "source": [
    "#### @jabedkhanjb"
   ]
  },
  {
   "cell_type": "markdown",
   "id": "d0534bcd",
   "metadata": {},
   "source": [
    "# Splitting NumPy Arrays\n",
    "\n",
    "Splitting is reverse operation of Joining.\n",
    "\n",
    "Joining merges multiple arrays into one and Splitting breaks one array into multiple.\n",
    "\n",
    "We use <b>array_split()</b> for splitting arrays, we pass it the array we want to split and the number of splits."
   ]
  },
  {
   "cell_type": "markdown",
   "id": "68ae0d84",
   "metadata": {},
   "source": [
    "<i>Split the array in 3 parts:</i>"
   ]
  },
  {
   "cell_type": "code",
   "execution_count": 8,
   "id": "45b389c1",
   "metadata": {},
   "outputs": [
    {
     "name": "stdout",
     "output_type": "stream",
     "text": [
      "[array([1, 2]), array([3, 4]), array([5, 6])]\n"
     ]
    }
   ],
   "source": [
    "import numpy as np\n",
    "\n",
    "arr = np.array([1, 2, 3, 4, 5, 6])\n",
    "\n",
    "newarr = np.array_split(arr, 3)\n",
    "\n",
    "print(newarr) "
   ]
  },
  {
   "cell_type": "markdown",
   "id": "f7ebbf69",
   "metadata": {},
   "source": [
    "\n",
    "\n",
    "<b>Note:</b> The return value is an array containing three arrays.\n"
   ]
  },
  {
   "cell_type": "markdown",
   "id": "8270c1d2",
   "metadata": {},
   "source": [
    "If the array has less elements than required, it will adjust from the end accordingly."
   ]
  },
  {
   "cell_type": "markdown",
   "id": "1990b875",
   "metadata": {},
   "source": [
    "<i>Split the array in 4 parts:</i>"
   ]
  },
  {
   "cell_type": "code",
   "execution_count": 11,
   "id": "3eec7280",
   "metadata": {},
   "outputs": [
    {
     "name": "stdout",
     "output_type": "stream",
     "text": [
      "[array([1, 2]), array([3, 4]), array([5]), array([6])]\n"
     ]
    }
   ],
   "source": [
    "import numpy as np\n",
    "\n",
    "arr = np.array([1,2,3,4,5,6])\n",
    "\n",
    "newarr = np.array_split(arr, 4)\n",
    "print(newarr)"
   ]
  },
  {
   "cell_type": "markdown",
   "id": "67f42c04",
   "metadata": {},
   "source": [
    "<b>Note:</b> We also have the method <b>split()</b> available but it will not adjust the elements when elements are less in source array for splitting like in example above, <b>array_split()</b> worked properly but <b>split()</b> would fail."
   ]
  },
  {
   "cell_type": "markdown",
   "id": "f2c01932",
   "metadata": {},
   "source": [
    "# Split Into Arrays\n",
    "\n",
    "The return value of the <b>array_split()</b> method is an array containing each of the split as an array.\n",
    "\n",
    "If you split an array into 3 arrays, you can access them from the result just like any array element:\n",
    "Example"
   ]
  },
  {
   "cell_type": "markdown",
   "id": "751c26fc",
   "metadata": {},
   "source": [
    "<i>Access the splitted arrays:</i>"
   ]
  },
  {
   "cell_type": "code",
   "execution_count": 13,
   "id": "135871b0",
   "metadata": {},
   "outputs": [
    {
     "name": "stdout",
     "output_type": "stream",
     "text": [
      "[1 2]\n",
      "[3 4]\n",
      "[5 6]\n",
      "[7 8]\n"
     ]
    }
   ],
   "source": [
    "import numpy as np\n",
    "\n",
    "arr = np.array([1,2,3,4,5,6,7,8])\n",
    "\n",
    "newarr = np.array_split(arr, 4)\n",
    "print(newarr[0])\n",
    "print(newarr[1])\n",
    "print(newarr[2])\n",
    "print(newarr[3])"
   ]
  },
  {
   "cell_type": "markdown",
   "id": "762fbcaa",
   "metadata": {},
   "source": [
    "# Splitting 2-D Arrays\n",
    "\n",
    "Use the same syntax when splitting 2-D arrays.\n",
    "\n",
    "Use the <b>array_split()</b> method, pass in the array you want to split and the number of splits you want to do."
   ]
  },
  {
   "cell_type": "code",
   "execution_count": 19,
   "id": "7a56f23e",
   "metadata": {},
   "outputs": [
    {
     "name": "stdout",
     "output_type": "stream",
     "text": [
      "[array([[ 1,  2,  3],\n",
      "       [ 4,  5,  6],\n",
      "       [ 7,  8,  9],\n",
      "       [10, 11, 12]])]\n"
     ]
    }
   ],
   "source": [
    "import numpy as np\n",
    "arr = np.array([[1,2,3], [4,5,6], [7,8,9], [10,11,12]])\n",
    "newarr = np.array_split(arr,3)\n",
    "print(newarr)"
   ]
  },
  {
   "cell_type": "code",
   "execution_count": null,
   "id": "75dc80a4",
   "metadata": {},
   "outputs": [],
   "source": []
  }
 ],
 "metadata": {
  "kernelspec": {
   "display_name": "Python 3 (ipykernel)",
   "language": "python",
   "name": "python3"
  },
  "language_info": {
   "codemirror_mode": {
    "name": "ipython",
    "version": 3
   },
   "file_extension": ".py",
   "mimetype": "text/x-python",
   "name": "python",
   "nbconvert_exporter": "python",
   "pygments_lexer": "ipython3",
   "version": "3.9.13"
  }
 },
 "nbformat": 4,
 "nbformat_minor": 5
}
