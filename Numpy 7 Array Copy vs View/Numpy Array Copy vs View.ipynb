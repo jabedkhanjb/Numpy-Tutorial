{
 "cells": [
  {
   "cell_type": "markdown",
   "id": "49d0d966",
   "metadata": {},
   "source": [
    "# Numpy Array Copy vs View"
   ]
  },
  {
   "cell_type": "markdown",
   "id": "89616e5b",
   "metadata": {},
   "source": [
    "#### @jabedkhanjb"
   ]
  },
  {
   "cell_type": "markdown",
   "id": "542ab4ae",
   "metadata": {},
   "source": [
    "# The Difference Between Copy and View\n",
    "\n",
    "The main difference between a copy and a view of an array is that the copy is a new array, and the view is just a view of the original array.\n",
    "\n",
    "The copy owns the data and any changes made to the copy will not affect original array, and any changes made to the original array will not affect the copy.\n",
    "\n",
    "The view does not own the data and any changes made to the view will affect the original array, and any changes made to the original array will affect the view."
   ]
  },
  {
   "cell_type": "markdown",
   "id": "478cd548",
   "metadata": {},
   "source": [
    "# COPY:"
   ]
  },
  {
   "cell_type": "markdown",
   "id": "3eea1c85",
   "metadata": {},
   "source": [
    "<i>Make a copy, change the original array, and display both arrays:</i>"
   ]
  },
  {
   "cell_type": "code",
   "execution_count": 16,
   "id": "28fe8649",
   "metadata": {},
   "outputs": [
    {
     "name": "stdout",
     "output_type": "stream",
     "text": [
      "[ 1  2  3  4  5  6  7  8  9 10]\n",
      "[1 2 3 4 5 6 7 8 9 1]\n"
     ]
    }
   ],
   "source": [
    "import numpy as np\n",
    "\n",
    "arr = np.array([1,2,3,4,5,6,7,8,9,10])\n",
    "myarr = arr.copy()\n",
    "arr[9] = 1\n",
    "\n",
    "print(myarr)\n",
    "print(arr)"
   ]
  },
  {
   "cell_type": "markdown",
   "id": "0e302424",
   "metadata": {},
   "source": [
    "In this code above, we copied the main array(arr) into a new array(myarr)\n",
    "but we changed the index number 9 which has 10, turned into 1 and we printed them later.\n",
    "\n",
    "<i>The copy SHOULD NOT be affected by the changes made to the original array.</i>"
   ]
  },
  {
   "cell_type": "markdown",
   "id": "56c32b34",
   "metadata": {},
   "source": [
    "# VIEW:"
   ]
  },
  {
   "cell_type": "markdown",
   "id": "977bfa63",
   "metadata": {},
   "source": [
    "<i>Make a view, change the original array, and display both arrays:</i>"
   ]
  },
  {
   "cell_type": "code",
   "execution_count": 19,
   "id": "6704cf95",
   "metadata": {},
   "outputs": [
    {
     "name": "stdout",
     "output_type": "stream",
     "text": [
      "[42  2  3  4  5  6  7  8  9 10]\n",
      "[42  2  3  4  5  6  7  8  9 10]\n"
     ]
    }
   ],
   "source": [
    "import numpy as np\n",
    "\n",
    "arr = np.array([1,2,3,4,5,6,7,8,9,10])\n",
    "myarr = arr.view()\n",
    "arr[0] = 42\n",
    "\n",
    "print(myarr)\n",
    "print(arr) "
   ]
  },
  {
   "cell_type": "markdown",
   "id": "064f7def",
   "metadata": {},
   "source": [
    "So in this code above, the term \"view\" changed the original array and displayed both arrays.\n",
    "\n",
    "<i>The view SHOULD be affected by the changes made to the original array.</i>"
   ]
  },
  {
   "cell_type": "markdown",
   "id": "d60c9c28",
   "metadata": {},
   "source": [
    "# Check if Array Owns its Data\n",
    "\n",
    "As mentioned above, copies owns the data, and views does not own the data, but how can we check this?\n",
    "\n",
    "Every NumPy array has the attribute \"base\" that returns \"None\" if the array owns the data.\n",
    "\n",
    "Otherwise, the \"base\" attribute refers to the original object. "
   ]
  },
  {
   "cell_type": "markdown",
   "id": "38ac40bd",
   "metadata": {},
   "source": [
    "<i>Print the value of the base attribute to check if an array owns its data or not:</i>"
   ]
  },
  {
   "cell_type": "code",
   "execution_count": 14,
   "id": "bdb687b9",
   "metadata": {},
   "outputs": [
    {
     "name": "stdout",
     "output_type": "stream",
     "text": [
      "None\n",
      "[ 1  2  3  4  5  6  7  8  9 10]\n"
     ]
    }
   ],
   "source": [
    "import numpy as np\n",
    "\n",
    "arr = np.array([1,2,3,4,5,6,7,8,9,10])\n",
    "\n",
    "x = arr.copy()\n",
    "y = arr.view()\n",
    "\n",
    "print(x.base)\n",
    "print(y.base)"
   ]
  },
  {
   "cell_type": "markdown",
   "id": "f41bb5b5",
   "metadata": {},
   "source": [
    "The copy returns None.\n",
    "\n",
    "The view returns the original array."
   ]
  },
  {
   "cell_type": "code",
   "execution_count": null,
   "id": "735a11b0",
   "metadata": {},
   "outputs": [],
   "source": []
  }
 ],
 "metadata": {
  "kernelspec": {
   "display_name": "Python 3 (ipykernel)",
   "language": "python",
   "name": "python3"
  },
  "language_info": {
   "codemirror_mode": {
    "name": "ipython",
    "version": 3
   },
   "file_extension": ".py",
   "mimetype": "text/x-python",
   "name": "python",
   "nbconvert_exporter": "python",
   "pygments_lexer": "ipython3",
   "version": "3.9.13"
  }
 },
 "nbformat": 4,
 "nbformat_minor": 5
}
