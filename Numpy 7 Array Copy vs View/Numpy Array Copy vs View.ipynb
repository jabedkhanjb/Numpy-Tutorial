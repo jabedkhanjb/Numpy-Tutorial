{
 "cells": [
  {
   "cell_type": "markdown",
   "id": "04071fd4",
   "metadata": {},
   "source": [
    "# Numpy Array Copy vs View"
   ]
  },
  {
   "cell_type": "markdown",
   "id": "ac99df71",
   "metadata": {},
   "source": [
    "# The Difference Between Copy and View\n",
    "\n",
    "The main difference between a copy and a view of an array is that the copy is a new array, and the view is just a view of the original array.\n",
    "\n",
    "The copy owns the data and any changes made to the copy will not affect original array, and any changes made to the original array will not affect the copy.\n",
    "\n",
    "The view does not own the data and any changes made to the view will affect the original array, and any changes made to the original array will affect the view."
   ]
  },
  {
   "cell_type": "markdown",
   "id": "d5a5fd9f",
   "metadata": {},
   "source": [
    "# COPY:"
   ]
  },
  {
   "cell_type": "markdown",
   "id": "6daa09e6",
   "metadata": {},
   "source": [
    "<i>Make a copy, change the original array, and display both arrays:</i>"
   ]
  },
  {
   "cell_type": "code",
   "execution_count": 16,
   "id": "877389de",
   "metadata": {},
   "outputs": [
    {
     "name": "stdout",
     "output_type": "stream",
     "text": [
      "[ 1  2  3  4  5  6  7  8  9 10]\n",
      "[1 2 3 4 5 6 7 8 9 1]\n"
     ]
    }
   ],
   "source": [
    "import numpy as np\n",
    "\n",
    "arr = np.array([1,2,3,4,5,6,7,8,9,10])\n",
    "myarr = arr.copy()\n",
    "arr[9] = 1\n",
    "\n",
    "print(myarr)\n",
    "print(arr)"
   ]
  },
  {
   "cell_type": "markdown",
   "id": "7bcddf74",
   "metadata": {},
   "source": [
    "In this code above, we copied the main array(arr) into a new array(myarr)\n",
    "but we changed the index number 9 which has 10, turned into 1 and we printed them later.\n",
    "\n",
    "<i>The copy SHOULD NOT be affected by the changes made to the original array.</i>"
   ]
  },
  {
   "cell_type": "markdown",
   "id": "eed9dd01",
   "metadata": {},
   "source": [
    "# VIEW:"
   ]
  },
  {
   "cell_type": "markdown",
   "id": "cec7c3dd",
   "metadata": {},
   "source": [
    "<i>Make a view, change the original array, and display both arrays:</i>"
   ]
  },
  {
   "cell_type": "code",
   "execution_count": 12,
   "id": "3644089b",
   "metadata": {},
   "outputs": [
    {
     "name": "stdout",
     "output_type": "stream",
     "text": [
      "[42  2  3  4  5  6  7  8  9 10]\n",
      "[42  2  3  4  5  6  7  8  9 10]\n"
     ]
    }
   ],
   "source": [
    "import numpy as np\n",
    "\n",
    "arr = np.array([1,2,3,4,5,6,7,8,9,10])\n",
    "myarr = arr.view()\n",
    "arr[0] = 42\n",
    "\n",
    "print(myarr)\n",
    "print(arr) "
   ]
  },
  {
   "cell_type": "markdown",
   "id": "1876248c",
   "metadata": {},
   "source": [
    "So in this code above, the term \"view\" changed the original array and displayed both arrays.\n",
    "\n",
    "<i>The view SHOULD be affected by the changes made to the original array.</i>"
   ]
  },
  {
   "cell_type": "markdown",
   "id": "d5b41d3d",
   "metadata": {},
   "source": [
    "# Check if Array Owns its Data\n",
    "\n",
    "As mentioned above, copies owns the data, and views does not own the data, but how can we check this?\n",
    "\n",
    "Every NumPy array has the attribute \"base\" that returns \"None\" if the array owns the data.\n",
    "\n",
    "Otherwise, the \"base\" attribute refers to the original object. "
   ]
  },
  {
   "cell_type": "markdown",
   "id": "8a162dd2",
   "metadata": {},
   "source": [
    "<i>Print the value of the base attribute to check if an array owns its data or not:</i>"
   ]
  },
  {
   "cell_type": "code",
   "execution_count": 14,
   "id": "7dcabb9b",
   "metadata": {},
   "outputs": [
    {
     "name": "stdout",
     "output_type": "stream",
     "text": [
      "None\n",
      "[ 1  2  3  4  5  6  7  8  9 10]\n"
     ]
    }
   ],
   "source": [
    "import numpy as np\n",
    "\n",
    "arr = np.array([1,2,3,4,5,6,7,8,9,10])\n",
    "\n",
    "x = arr.copy()\n",
    "y = arr.view()\n",
    "\n",
    "print(x.base)\n",
    "print(y.base)"
   ]
  },
  {
   "cell_type": "code",
   "execution_count": null,
   "id": "7bd187c3",
   "metadata": {},
   "outputs": [],
   "source": []
  }
 ],
 "metadata": {
  "kernelspec": {
   "display_name": "Python 3 (ipykernel)",
   "language": "python",
   "name": "python3"
  },
  "language_info": {
   "codemirror_mode": {
    "name": "ipython",
    "version": 3
   },
   "file_extension": ".py",
   "mimetype": "text/x-python",
   "name": "python",
   "nbconvert_exporter": "python",
   "pygments_lexer": "ipython3",
   "version": "3.9.13"
  }
 },
 "nbformat": 4,
 "nbformat_minor": 5
}
