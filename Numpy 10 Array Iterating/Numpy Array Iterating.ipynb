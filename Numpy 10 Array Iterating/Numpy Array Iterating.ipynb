{
 "cells": [
  {
   "cell_type": "markdown",
   "id": "2cf55e9a",
   "metadata": {},
   "source": [
    "# Numpy Array Iterating"
   ]
  },
  {
   "cell_type": "markdown",
   "id": "629b0d79",
   "metadata": {},
   "source": [
    "#### @jabedkhanjb"
   ]
  },
  {
   "cell_type": "markdown",
   "id": "84021027",
   "metadata": {},
   "source": [
    "Iterating Arrays\n",
    "\n",
    "Iterating means going through elements one by one.\n",
    "\n",
    "As we deal with multi-dimensional arrays in numpy, we can do this using basic \"for\" loop of python.\n",
    "\n",
    "If we iterate on a 1-D array it will go through each element one by one."
   ]
  },
  {
   "cell_type": "markdown",
   "id": "955dd5d0",
   "metadata": {},
   "source": [
    "<i>Iterate on the elements of the following 1-D array:</i>"
   ]
  },
  {
   "cell_type": "code",
   "execution_count": 1,
   "id": "b5de6914",
   "metadata": {},
   "outputs": [
    {
     "name": "stdout",
     "output_type": "stream",
     "text": [
      "1\n",
      "2\n",
      "3\n"
     ]
    }
   ],
   "source": [
    "import numpy as np\n",
    "\n",
    "arr = np.array([1, 2, 3])\n",
    "\n",
    "for x in arr:\n",
    "  print(x) "
   ]
  },
  {
   "cell_type": "markdown",
   "id": "65359ae5",
   "metadata": {},
   "source": [
    "# Iterating 2-D Arrays"
   ]
  },
  {
   "cell_type": "markdown",
   "id": "719a14de",
   "metadata": {},
   "source": [
    "In a 2-D array it will go through all the rows."
   ]
  },
  {
   "cell_type": "markdown",
   "id": "b17298f0",
   "metadata": {},
   "source": [
    "<i>Iterate on the elements of the following 2-D array:</i>"
   ]
  },
  {
   "cell_type": "code",
   "execution_count": 2,
   "id": "6ffe4f47",
   "metadata": {},
   "outputs": [
    {
     "name": "stdout",
     "output_type": "stream",
     "text": [
      "[1 2 3]\n",
      "[4 5 6]\n"
     ]
    }
   ],
   "source": [
    "import numpy as np\n",
    "\n",
    "arr = np.array([[1, 2, 3], [4, 5, 6]])\n",
    "\n",
    "for x in arr:\n",
    "  print(x)"
   ]
  },
  {
   "cell_type": "markdown",
   "id": "8fc7d3cd",
   "metadata": {},
   "source": [
    "\n",
    "\n",
    "If we iterate on a n-D array it will go through n-1th dimension one by one.\n",
    "\n",
    "To return the actual values, the scalars, we have to iterate the arrays in each dimension."
   ]
  },
  {
   "cell_type": "markdown",
   "id": "5ba0137d",
   "metadata": {},
   "source": [
    "<i>Iterate on each scalar element of the 2-D array:</i>"
   ]
  },
  {
   "cell_type": "code",
   "execution_count": 3,
   "id": "5f931e37",
   "metadata": {},
   "outputs": [
    {
     "name": "stdout",
     "output_type": "stream",
     "text": [
      "1\n",
      "2\n",
      "3\n",
      "4\n",
      "5\n",
      "6\n"
     ]
    }
   ],
   "source": [
    "import numpy as np\n",
    "\n",
    "arr = np.array([[1, 2, 3], [4, 5, 6]])\n",
    "\n",
    "for x in arr:\n",
    "    for y in x:\n",
    "        print(y)"
   ]
  },
  {
   "cell_type": "markdown",
   "id": "3528ab13",
   "metadata": {},
   "source": [
    "Here we've used a nested for loop that returns all array elements to the print prompt"
   ]
  },
  {
   "cell_type": "markdown",
   "id": "7d6e3fa6",
   "metadata": {},
   "source": [
    "# Iterating 3-D Arrays\n",
    "\n",
    "In a 3-D array it will go through all the 2-D arrays."
   ]
  },
  {
   "cell_type": "markdown",
   "id": "842fffac",
   "metadata": {},
   "source": [
    "<i>Iterate on the elements of the following 3-D array:</i>"
   ]
  },
  {
   "cell_type": "code",
   "execution_count": 4,
   "id": "55b50172",
   "metadata": {},
   "outputs": [
    {
     "name": "stdout",
     "output_type": "stream",
     "text": [
      "[[1 2 3]\n",
      " [4 5 6]]\n",
      "[[ 7  8  9]\n",
      " [10 11 12]]\n"
     ]
    }
   ],
   "source": [
    "import numpy as np\n",
    "\n",
    "arr = np.array([[[1, 2, 3], [4, 5, 6]], [[7, 8, 9], [10, 11, 12]]])\n",
    "\n",
    "for x in arr:\n",
    "  print(x) "
   ]
  },
  {
   "cell_type": "markdown",
   "id": "baa3b7a2",
   "metadata": {},
   "source": [
    "To return the actual values, the scalars, we have to iterate the arrays in each dimension."
   ]
  },
  {
   "cell_type": "markdown",
   "id": "383e3424",
   "metadata": {},
   "source": [
    "<i>Iterate down to the scalars:</i>"
   ]
  },
  {
   "cell_type": "code",
   "execution_count": 5,
   "id": "707bbe76",
   "metadata": {},
   "outputs": [
    {
     "name": "stdout",
     "output_type": "stream",
     "text": [
      "1\n",
      "2\n",
      "3\n",
      "4\n",
      "5\n",
      "6\n",
      "7\n",
      "8\n",
      "9\n",
      "10\n",
      "11\n",
      "12\n"
     ]
    }
   ],
   "source": [
    "import numpy as np\n",
    "\n",
    "arr = np.array([[[1, 2, 3], [4, 5, 6]], [[7, 8, 9], [10, 11, 12]]])\n",
    "\n",
    "for a in arr:\n",
    "    for b in a:\n",
    "        for c in b:\n",
    "            print(c)"
   ]
  },
  {
   "cell_type": "markdown",
   "id": "3a8d0267",
   "metadata": {},
   "source": [
    "# Iterating Arrays Using nditer()\n",
    "\n",
    "The function \"nditer()\" is a helping function that can be used from very basic to very advanced iterations. It solves some basic issues which we face in iteration, lets go through it with examples.\n",
    "\n",
    "### Iterating on Each Scalar Element\n",
    "\n",
    "Here in basic \"for\" loops,  iterating  through each scalar of an array we need  to use <i>n</i> \"for\" loops which can be difficult to write for arrays with very high dimensionality."
   ]
  },
  {
   "cell_type": "markdown",
   "id": "757a4de6",
   "metadata": {},
   "source": [
    "<i>Iterate through the following 3-D array:</i>"
   ]
  },
  {
   "cell_type": "code",
   "execution_count": 6,
   "id": "9e00008a",
   "metadata": {},
   "outputs": [
    {
     "name": "stdout",
     "output_type": "stream",
     "text": [
      "1\n",
      "2\n",
      "3\n",
      "4\n",
      "5\n",
      "6\n",
      "7\n",
      "8\n"
     ]
    }
   ],
   "source": [
    "import numpy as np\n",
    "\n",
    "arr = np.array([[[1, 2], [3, 4]], [[5, 6], [7, 8]]])\n",
    "\n",
    "for x in np.nditer(arr):\n",
    "  print(x)"
   ]
  },
  {
   "cell_type": "code",
   "execution_count": 7,
   "id": "5f05350b",
   "metadata": {},
   "outputs": [
    {
     "name": "stdout",
     "output_type": "stream",
     "text": [
      "11\n",
      "22\n",
      "33\n",
      "44\n",
      "55\n",
      "66\n",
      "77\n",
      "88\n",
      "99\n",
      "10\n",
      "100\n",
      "1000\n"
     ]
    }
   ],
   "source": [
    "myarr = np.array([[[11,22,33],[44,55,66]],[[77,88,99],[10,100,1000]]])\n",
    "for x in np.nditer(myarr):\n",
    "    print(x)"
   ]
  },
  {
   "cell_type": "markdown",
   "id": "002539b8",
   "metadata": {},
   "source": [
    "# Iterating Array With Different Data Types\n",
    "\n",
    "We can use \"op_dtypes\" argument and pass it the expected datatype to change the datatype of elements while iterating.\n",
    "\n",
    "NumPy does not change the data type of the element in-place (where the element is in array) so it needs some other space to perform this action, that extra space is called buffer, and in order to enable it in \"nditer()\" we pass flags=['buffered']."
   ]
  },
  {
   "cell_type": "code",
   "execution_count": 8,
   "id": "f176fbb0",
   "metadata": {},
   "outputs": [
    {
     "name": "stdout",
     "output_type": "stream",
     "text": [
      "This is 1 dimensational array.\n",
      "b'1'\n",
      "b'2'\n",
      "b'3'\n"
     ]
    }
   ],
   "source": [
    "import numpy as np\n",
    "\n",
    "arr = np.array([1, 2, 3])\n",
    "print(f\"This is {arr.ndim} dimensational array.\")\n",
    "for x in np.nditer(arr, flags=['buffered'], op_dtypes=['S']):\n",
    "  print(x) "
   ]
  },
  {
   "cell_type": "markdown",
   "id": "7d3c7257",
   "metadata": {},
   "source": [
    "# Iterating With Different Step Size\n",
    "\n",
    "We can use filtering and followed by iteration."
   ]
  },
  {
   "cell_type": "markdown",
   "id": "cd6d7e12",
   "metadata": {},
   "source": [
    "<i>Iterate through every scalar element of the 2D array skipping 1 element:</i>"
   ]
  },
  {
   "cell_type": "code",
   "execution_count": 9,
   "id": "34bec736",
   "metadata": {},
   "outputs": [
    {
     "name": "stdout",
     "output_type": "stream",
     "text": [
      "Dimension number 2\n",
      "1\n",
      "3\n",
      "5\n",
      "7\n"
     ]
    }
   ],
   "source": [
    "import numpy as np\n",
    "\n",
    "arr = np.array([[1, 2, 3, 4], [5, 6, 7, 8]])\n",
    "print(\"Dimension number\",arr.ndim)\n",
    "for x in np.nditer(arr[:,::2]):\n",
    "  print(x) "
   ]
  },
  {
   "cell_type": "markdown",
   "id": "d285263d",
   "metadata": {},
   "source": [
    "# Enumerated Iteration Using ndenumerate()\n",
    "\n",
    "Enumeration means mentioning sequence number of somethings one by one.\n",
    "\n",
    "Sometimes we require corresponding index of the element while iterating, the \"ndenumerate()\" method can be used for those usecases."
   ]
  },
  {
   "cell_type": "markdown",
   "id": "7f66d271",
   "metadata": {},
   "source": [
    "<i>Enumerate on following 1D arrays elements:</i>"
   ]
  },
  {
   "cell_type": "code",
   "execution_count": 10,
   "id": "6b584382",
   "metadata": {},
   "outputs": [
    {
     "name": "stdout",
     "output_type": "stream",
     "text": [
      "Dimension Number: 1\n",
      "Dimension Number: 3\n",
      "(0, 0, 0) 11\n",
      "(0, 0, 1) 22\n",
      "(0, 0, 2) 33\n",
      "(0, 1, 0) 44\n",
      "(0, 1, 1) 55\n",
      "(0, 1, 2) 66\n",
      "(1, 0, 0) 77\n",
      "(1, 0, 1) 88\n",
      "(1, 0, 2) 99\n",
      "(1, 1, 0) 10\n",
      "(1, 1, 1) 100\n",
      "(1, 1, 2) 1000\n"
     ]
    }
   ],
   "source": [
    "import numpy as np\n",
    "\n",
    "arr = np.array([1, 2, 3])\n",
    "print(\"Dimension Number:\",arr.ndim)\n",
    "myarr = np.array([[[11,22,33],[44,55,66]],[[77,88,99],[10,100,1000]]])\n",
    "print(\"Dimension Number:\",myarr.ndim)\n",
    "\n",
    "for idx, x in np.ndenumerate(myarr):\n",
    "  print(idx, x) "
   ]
  },
  {
   "cell_type": "markdown",
   "id": "6e51bd3d",
   "metadata": {},
   "source": [
    "Here we used 3 dimensional array so the first number represents the first array of the dimension, and the second one represents the dimension of the first array, and the 3rd one represents the array elemtents or index number of second dimension."
   ]
  },
  {
   "cell_type": "markdown",
   "id": "d404c4a8",
   "metadata": {},
   "source": [
    "<i>Enumerate on following 2D array's elements:</i>"
   ]
  },
  {
   "cell_type": "code",
   "execution_count": 11,
   "id": "d03c421e",
   "metadata": {},
   "outputs": [
    {
     "name": "stdout",
     "output_type": "stream",
     "text": [
      "(0, 0) 1\n",
      "(0, 1) 2\n",
      "(0, 2) 3\n",
      "(0, 3) 4\n",
      "(1, 0) 5\n",
      "(1, 1) 6\n",
      "(1, 2) 7\n",
      "(1, 3) 8\n"
     ]
    }
   ],
   "source": [
    "import numpy as np\n",
    "\n",
    "arr = np.array([[1, 2, 3, 4], [5, 6, 7, 8]])\n",
    "\n",
    "for idx, x in np.ndenumerate(arr):\n",
    "  print(idx, x) "
   ]
  },
  {
   "cell_type": "markdown",
   "id": "cd44998e",
   "metadata": {},
   "source": [
    "So in here, the very first number represent the dimension, and the second one represents the array elements index number"
   ]
  },
  {
   "cell_type": "code",
   "execution_count": null,
   "id": "2be1fbf3",
   "metadata": {},
   "outputs": [],
   "source": []
  }
 ],
 "metadata": {
  "kernelspec": {
   "display_name": "Python 3 (ipykernel)",
   "language": "python",
   "name": "python3"
  },
  "language_info": {
   "codemirror_mode": {
    "name": "ipython",
    "version": 3
   },
   "file_extension": ".py",
   "mimetype": "text/x-python",
   "name": "python",
   "nbconvert_exporter": "python",
   "pygments_lexer": "ipython3",
   "version": "3.9.13"
  }
 },
 "nbformat": 4,
 "nbformat_minor": 5
}
