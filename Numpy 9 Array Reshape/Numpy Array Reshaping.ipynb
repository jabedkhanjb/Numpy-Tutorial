{
 "cells": [
  {
   "cell_type": "markdown",
   "id": "5ec00cc8",
   "metadata": {},
   "source": [
    "# Numpu Array Reshaping"
   ]
  },
  {
   "cell_type": "markdown",
   "id": "32a8d335",
   "metadata": {},
   "source": [
    "#### @jabedkhanjb"
   ]
  },
  {
   "cell_type": "markdown",
   "id": "ef83df7b",
   "metadata": {},
   "source": [
    "# Reshaping arrays\n",
    "\n",
    "Reshaping means changing the shape of an array.\n",
    "\n",
    "The shape of an array is the number of elements in each dimension.\n",
    "\n",
    "By reshaping we can add or remove dimensions or change number of elements in each dimension."
   ]
  },
  {
   "cell_type": "markdown",
   "id": "43b7f360",
   "metadata": {},
   "source": [
    "# Reshape From 1-D to 2-D"
   ]
  },
  {
   "cell_type": "markdown",
   "id": "592c8975",
   "metadata": {},
   "source": [
    "<i>Convert the following 1-D array with 12 elements into a 2-D array.\n",
    "\n",
    "The outermost dimension will have 4 arrays, each with 3 elements:</i>"
   ]
  },
  {
   "cell_type": "code",
   "execution_count": 6,
   "id": "930a084d",
   "metadata": {},
   "outputs": [
    {
     "name": "stdout",
     "output_type": "stream",
     "text": [
      "[[ 1  2  3]\n",
      " [ 4  5  6]\n",
      " [ 7  8  9]\n",
      " [10 11 12]]\n"
     ]
    }
   ],
   "source": [
    "import numpy as np\n",
    "\n",
    "arr = np.array([1, 2, 3, 4, 5, 6, 7, 8, 9, 10, 11, 12])\n",
    "\n",
    "newarr = arr.reshape(4, 3)\n",
    "\n",
    "print(newarr) "
   ]
  },
  {
   "cell_type": "markdown",
   "id": "115934a4",
   "metadata": {},
   "source": [
    "# Reshape From 1-D to 3-D"
   ]
  },
  {
   "cell_type": "markdown",
   "id": "537dc42b",
   "metadata": {},
   "source": [
    "<i>Convert the following 1-D array with 12 elements into a 3-D array.\n",
    "\n",
    "The outermost dimension will have 2 arrays that contains 3 arrays, each with 2 elements:</i>"
   ]
  },
  {
   "cell_type": "code",
   "execution_count": 12,
   "id": "a6c222f4",
   "metadata": {},
   "outputs": [
    {
     "name": "stdout",
     "output_type": "stream",
     "text": [
      "[[[ 1  2]\n",
      "  [ 3  4]\n",
      "  [ 5  6]]\n",
      "\n",
      " [[ 7  8]\n",
      "  [ 9 10]\n",
      "  [11 12]]]\n"
     ]
    }
   ],
   "source": [
    "import numpy as np\n",
    "\n",
    "arr = np.array([1, 2, 3, 4, 5, 6, 7, 8, 9, 10, 11, 12])\n",
    "\n",
    "newarr = arr.reshape(2, 3, 2)\n",
    "\n",
    "print(newarr) "
   ]
  },
  {
   "cell_type": "markdown",
   "id": "1ef13e92",
   "metadata": {},
   "source": [
    "Okay now we are gonna convert this again in a different way that the outermost dimension will have 2 arrays that contains 2 arrays, each with 3 elements."
   ]
  },
  {
   "cell_type": "code",
   "execution_count": 13,
   "id": "f402d8aa",
   "metadata": {},
   "outputs": [
    {
     "name": "stdout",
     "output_type": "stream",
     "text": [
      "[[[ 1  2  3]\n",
      "  [ 4  5  6]]\n",
      "\n",
      " [[ 7  8  9]\n",
      "  [10 11 12]]]\n"
     ]
    }
   ],
   "source": [
    "import numpy as np\n",
    "\n",
    "arr = np.array([1, 2, 3, 4, 5, 6, 7, 8, 9, 10, 11, 12])\n",
    "\n",
    "newarr = arr.reshape(2, 2, 3)\n",
    "\n",
    "print(newarr) "
   ]
  },
  {
   "cell_type": "markdown",
   "id": "8ca23204",
   "metadata": {},
   "source": [
    "So, as we can see here that the arrays is a 3D array where its outermost dimention have "
   ]
  },
  {
   "cell_type": "markdown",
   "id": "558d8fbe",
   "metadata": {},
   "source": [
    "Okay now we are gonna convert this once again in a different way that the outermost dimension will have 2 arrays that contains 3 arrays, each with 2 elements."
   ]
  },
  {
   "cell_type": "code",
   "execution_count": 17,
   "id": "40438fc4",
   "metadata": {},
   "outputs": [
    {
     "name": "stdout",
     "output_type": "stream",
     "text": [
      "[[[ 1  2]\n",
      "  [ 3  4]]\n",
      "\n",
      " [[ 5  6]\n",
      "  [ 7  8]]\n",
      "\n",
      " [[ 9 10]\n",
      "  [11 12]]]\n"
     ]
    }
   ],
   "source": [
    "import numpy as np\n",
    "\n",
    "arr = np.array([1, 2, 3, 4, 5, 6, 7, 8, 9, 10, 11, 12])\n",
    "\n",
    "newarr = arr.reshape(3, 2, 2)\n",
    "\n",
    "print(newarr) "
   ]
  },
  {
   "cell_type": "markdown",
   "id": "de0fc7ce",
   "metadata": {},
   "source": [
    "# Can We Reshape Into any Shape?\n",
    "\n",
    "Yes, as long as the elements required for reshaping are equal in both shapes.\n",
    "\n",
    "We can reshape an 8 elements 1D array into 4 elements in 2 rows 2D array but we cannot reshape it into a 3 elements 3 rows 2D array as that would require 3x3 = 9 elements."
   ]
  },
  {
   "cell_type": "markdown",
   "id": "87771707",
   "metadata": {},
   "source": [
    "<i>Try converting 1D array with 8 elements to a 2D array with 3 elements in each dimension (will raise an error):</i>"
   ]
  },
  {
   "cell_type": "code",
   "execution_count": 20,
   "id": "be1243c7",
   "metadata": {},
   "outputs": [
    {
     "ename": "ValueError",
     "evalue": "cannot reshape array of size 8 into shape (3,3)",
     "output_type": "error",
     "traceback": [
      "\u001b[1;31m---------------------------------------------------------------------------\u001b[0m",
      "\u001b[1;31mValueError\u001b[0m                                Traceback (most recent call last)",
      "\u001b[1;32m~\\AppData\\Local\\Temp\\ipykernel_10436\\2722782830.py\u001b[0m in \u001b[0;36m<module>\u001b[1;34m\u001b[0m\n\u001b[0;32m      3\u001b[0m \u001b[0marr\u001b[0m \u001b[1;33m=\u001b[0m \u001b[0mnp\u001b[0m\u001b[1;33m.\u001b[0m\u001b[0marray\u001b[0m\u001b[1;33m(\u001b[0m\u001b[1;33m[\u001b[0m\u001b[1;36m1\u001b[0m\u001b[1;33m,\u001b[0m \u001b[1;36m2\u001b[0m\u001b[1;33m,\u001b[0m \u001b[1;36m3\u001b[0m\u001b[1;33m,\u001b[0m \u001b[1;36m4\u001b[0m\u001b[1;33m,\u001b[0m \u001b[1;36m5\u001b[0m\u001b[1;33m,\u001b[0m \u001b[1;36m6\u001b[0m\u001b[1;33m,\u001b[0m \u001b[1;36m7\u001b[0m\u001b[1;33m,\u001b[0m \u001b[1;36m8\u001b[0m\u001b[1;33m]\u001b[0m\u001b[1;33m)\u001b[0m\u001b[1;33m\u001b[0m\u001b[1;33m\u001b[0m\u001b[0m\n\u001b[0;32m      4\u001b[0m \u001b[1;33m\u001b[0m\u001b[0m\n\u001b[1;32m----> 5\u001b[1;33m \u001b[0mnewarr\u001b[0m \u001b[1;33m=\u001b[0m \u001b[0marr\u001b[0m\u001b[1;33m.\u001b[0m\u001b[0mreshape\u001b[0m\u001b[1;33m(\u001b[0m\u001b[1;36m3\u001b[0m\u001b[1;33m,\u001b[0m \u001b[1;36m3\u001b[0m\u001b[1;33m)\u001b[0m\u001b[1;33m\u001b[0m\u001b[1;33m\u001b[0m\u001b[0m\n\u001b[0m\u001b[0;32m      6\u001b[0m \u001b[1;33m\u001b[0m\u001b[0m\n\u001b[0;32m      7\u001b[0m \u001b[0mprint\u001b[0m\u001b[1;33m(\u001b[0m\u001b[0mnewarr\u001b[0m\u001b[1;33m)\u001b[0m\u001b[1;33m\u001b[0m\u001b[1;33m\u001b[0m\u001b[0m\n",
      "\u001b[1;31mValueError\u001b[0m: cannot reshape array of size 8 into shape (3,3)"
     ]
    }
   ],
   "source": [
    "import numpy as np\n",
    "\n",
    "arr = np.array([1, 2, 3, 4, 5, 6, 7, 8])\n",
    "\n",
    "newarr = arr.reshape(3, 3)\n",
    "\n",
    "print(newarr) "
   ]
  },
  {
   "cell_type": "markdown",
   "id": "0ccbb83d",
   "metadata": {},
   "source": [
    "# Returns Copy or View?"
   ]
  },
  {
   "cell_type": "markdown",
   "id": "c79ed232",
   "metadata": {},
   "source": [
    "<i>Check if the returned array is a copy or a view:</i>"
   ]
  },
  {
   "cell_type": "code",
   "execution_count": 25,
   "id": "079c759a",
   "metadata": {},
   "outputs": [
    {
     "name": "stdout",
     "output_type": "stream",
     "text": [
      "[[1 2 3 4]\n",
      " [5 6 7 8]]\n",
      "\n",
      "Now we will see the original array by using base term \n",
      "which represents view attribute of numpy.\n",
      "\n",
      "[1 2 3 4 5 6 7 8]\n"
     ]
    }
   ],
   "source": [
    "import numpy as np\n",
    "\n",
    "arr = np.array([1, 2, 3, 4, 5, 6, 7, 8])\n",
    "\n",
    "print(arr.reshape(2, 4))\n",
    "print(\"\"\"\\nNow we can see the original array by using base term \n",
    "which represents view attribute of numpy.\\n\"\"\")\n",
    "print(arr.reshape(2, 4).base)"
   ]
  },
  {
   "cell_type": "markdown",
   "id": "50b1393e",
   "metadata": {},
   "source": [
    "The example above returns the original array, so it is a view."
   ]
  },
  {
   "cell_type": "markdown",
   "id": "e1775cea",
   "metadata": {},
   "source": [
    "# Unknown Dimension\n",
    "\n",
    "You are allowed to have one \"unknown\" dimension.\n",
    "\n",
    "Meaning that you do not have to specify an exact number for one of the dimensions in the reshape method.\n",
    "\n",
    "Pass -1 as the value, and NumPy will calculate this number for you."
   ]
  },
  {
   "cell_type": "markdown",
   "id": "91e32fde",
   "metadata": {},
   "source": [
    "<i>Convert 1D array with 8 elements to 3D array with 2x2 elements:</i>"
   ]
  },
  {
   "cell_type": "code",
   "execution_count": 38,
   "id": "125de9eb",
   "metadata": {},
   "outputs": [
    {
     "name": "stdout",
     "output_type": "stream",
     "text": [
      "[[[1 2]\n",
      "  [3 4]]\n",
      "\n",
      " [[5 6]\n",
      "  [7 8]]]\n"
     ]
    }
   ],
   "source": [
    "import numpy as np\n",
    "\n",
    "arr = np.array([1, 2, 3, 4, 5, 6, 7, 8])\n",
    "\n",
    "newarr = arr.reshape(2,2,-1)\n",
    "\n",
    "print(newarr)"
   ]
  },
  {
   "cell_type": "markdown",
   "id": "13f1792b",
   "metadata": {},
   "source": [
    "# Flattening the arrays\n",
    "\n",
    "Flattening array means converting a multidimensional array into a 1D array.\n",
    "\n",
    "We can use \"reshape(-1)\" to do this"
   ]
  },
  {
   "cell_type": "markdown",
   "id": "d3f21977",
   "metadata": {},
   "source": [
    "<i>Convert the array into a 1D array:</i>"
   ]
  },
  {
   "cell_type": "code",
   "execution_count": 46,
   "id": "7e026bb9",
   "metadata": {},
   "outputs": [
    {
     "name": "stdout",
     "output_type": "stream",
     "text": [
      "[[1 2 3]\n",
      " [4 5 6]] \n",
      "\n",
      "[1 2 3 4 5 6]\n"
     ]
    }
   ],
   "source": [
    "import numpy as np\n",
    "\n",
    "arr = np.array([[1, 2, 3], [4, 5, 6]])\n",
    "\n",
    "newarr = arr.reshape(-1)\n",
    "print(arr,\"\\n\")\n",
    "print(newarr) "
   ]
  },
  {
   "cell_type": "markdown",
   "id": "1d54f3ef",
   "metadata": {},
   "source": [
    "In reshape, using more than -1 for instance -2, -3 or even -10 doesn't change the meaning of purpose of reshape in here. Recommended to use -1"
   ]
  },
  {
   "cell_type": "markdown",
   "id": "6fbb26ca",
   "metadata": {},
   "source": [
    "#### Note: \n",
    "There are a lot of functions for changing the shapes of arrays in numpy flatten, ravel and also for rearranging the elements rot90, flip, fliplr, flipud etc. These fall under Intermediate to Advanced section of numpy."
   ]
  },
  {
   "cell_type": "markdown",
   "id": "10080321",
   "metadata": {},
   "source": [
    "#### Mahfuz Islam Khan Jabed\n",
    "<i>@jabedkhanjb</i>"
   ]
  },
  {
   "cell_type": "code",
   "execution_count": null,
   "id": "82451fc2",
   "metadata": {},
   "outputs": [],
   "source": []
  }
 ],
 "metadata": {
  "kernelspec": {
   "display_name": "Python 3 (ipykernel)",
   "language": "python",
   "name": "python3"
  },
  "language_info": {
   "codemirror_mode": {
    "name": "ipython",
    "version": 3
   },
   "file_extension": ".py",
   "mimetype": "text/x-python",
   "name": "python",
   "nbconvert_exporter": "python",
   "pygments_lexer": "ipython3",
   "version": "3.9.13"
  }
 },
 "nbformat": 4,
 "nbformat_minor": 5
}
