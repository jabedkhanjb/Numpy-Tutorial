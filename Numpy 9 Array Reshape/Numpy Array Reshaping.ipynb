{
 "cells": [
  {
   "cell_type": "markdown",
   "id": "d5324b08",
   "metadata": {},
   "source": [
    "# Numpu Array Reshaping"
   ]
  },
  {
   "cell_type": "markdown",
   "id": "dfd526bf",
   "metadata": {},
   "source": [
    "#### @jabedkhanjb"
   ]
  },
  {
   "cell_type": "markdown",
   "id": "2ca686ee",
   "metadata": {},
   "source": [
    "# Reshaping arrays\n",
    "\n",
    "Reshaping means changing the shape of an array.\n",
    "\n",
    "The shape of an array is the number of elements in each dimension.\n",
    "\n",
    "By reshaping we can add or remove dimensions or change number of elements in each dimension."
   ]
  },
  {
   "cell_type": "markdown",
   "id": "abbb341f",
   "metadata": {},
   "source": [
    "# Reshape From 1-D to 2-D"
   ]
  },
  {
   "cell_type": "markdown",
   "id": "1a43471a",
   "metadata": {},
   "source": [
    "<i>Convert the following 1-D array with 12 elements into a 2-D array.\n",
    "\n",
    "The outermost dimension will have 4 arrays, each with 3 elements:</i>"
   ]
  },
  {
   "cell_type": "code",
   "execution_count": null,
   "id": "7f135f66",
   "metadata": {},
   "outputs": [],
   "source": []
  }
 ],
 "metadata": {
  "kernelspec": {
   "display_name": "Python 3 (ipykernel)",
   "language": "python",
   "name": "python3"
  },
  "language_info": {
   "codemirror_mode": {
    "name": "ipython",
    "version": 3
   },
   "file_extension": ".py",
   "mimetype": "text/x-python",
   "name": "python",
   "nbconvert_exporter": "python",
   "pygments_lexer": "ipython3",
   "version": "3.9.13"
  }
 },
 "nbformat": 4,
 "nbformat_minor": 5
}
