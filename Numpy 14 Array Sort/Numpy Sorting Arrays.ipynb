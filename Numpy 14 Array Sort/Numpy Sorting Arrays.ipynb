{
 "cells": [
  {
   "cell_type": "markdown",
   "id": "d3b4d308",
   "metadata": {},
   "source": [
    "# Numpy Sorting Arrays"
   ]
  },
  {
   "cell_type": "markdown",
   "id": "2b79ee3c",
   "metadata": {},
   "source": [
    "#### @jabedkhanjb"
   ]
  },
  {
   "cell_type": "markdown",
   "id": "a6c4d010",
   "metadata": {},
   "source": [
    "# Sorting Arrays\n",
    "\n",
    "Sorting means putting elements in an ordered sequence.\n",
    "\n",
    "Ordered sequence is any sequence that has an order corresponding to elements, like numeric or alphabetical, ascending or descending.\n",
    "\n",
    "The NumPy ndarray object has a function called <b>sort()</b>, that will sort a specified array."
   ]
  },
  {
   "cell_type": "code",
   "execution_count": 1,
   "id": "a7ea9538",
   "metadata": {},
   "outputs": [
    {
     "name": "stdout",
     "output_type": "stream",
     "text": [
      "[0 1 2 2 3 4 5 6 6 6 7 7 9]\n"
     ]
    }
   ],
   "source": [
    "import numpy as np\n",
    "arr = np.array([5,3,6,2,6,7,2,7,1,9,0,6,4])\n",
    "print(np.sort(arr))"
   ]
  },
  {
   "cell_type": "markdown",
   "id": "f4ed47ab",
   "metadata": {},
   "source": [
    "<b>Note:</b> This method returns a copy of the array, leaving the original array unchanged"
   ]
  },
  {
   "cell_type": "markdown",
   "id": "c6836826",
   "metadata": {},
   "source": [
    "<i>You can also sort arrays of strings, or any other data type:</i>"
   ]
  },
  {
   "cell_type": "code",
   "execution_count": 2,
   "id": "8d88256c",
   "metadata": {},
   "outputs": [
    {
     "name": "stdout",
     "output_type": "stream",
     "text": [
      "['anatomy' 'apple' 'banana' 'cherry']\n"
     ]
    }
   ],
   "source": [
    "import numpy as np\n",
    "\n",
    "arr = np.array(['banana', 'cherry', 'apple', 'anatomy'])\n",
    "\n",
    "print(np.sort(arr)) "
   ]
  },
  {
   "cell_type": "markdown",
   "id": "706c1c1e",
   "metadata": {},
   "source": [
    "<i>Sort a boolean array:</i>"
   ]
  },
  {
   "cell_type": "code",
   "execution_count": 3,
   "id": "18a51f24",
   "metadata": {},
   "outputs": [
    {
     "name": "stdout",
     "output_type": "stream",
     "text": [
      "[False False False  True  True  True]\n"
     ]
    }
   ],
   "source": [
    "import numpy as np\n",
    "\n",
    "arr = np.array([True, False, False, True, False, True])\n",
    "\n",
    "print(np.sort(arr)) "
   ]
  },
  {
   "cell_type": "markdown",
   "id": "0e8c2c52",
   "metadata": {},
   "source": [
    "# Sorting a 2-D Array\n",
    "\n",
    "If you use the sort() method on a 2-D array, both arrays will be sorted:"
   ]
  },
  {
   "cell_type": "markdown",
   "id": "39702a90",
   "metadata": {},
   "source": [
    "<i><b>Sort a 2-D array:</b></i>"
   ]
  },
  {
   "cell_type": "code",
   "execution_count": 4,
   "id": "e828eda5",
   "metadata": {},
   "outputs": [
    {
     "name": "stdout",
     "output_type": "stream",
     "text": [
      "[[2 3 4]\n",
      " [0 1 5]]\n"
     ]
    }
   ],
   "source": [
    "import numpy as np\n",
    "\n",
    "arr = np.array([[3, 2, 4], [5, 0, 1]])\n",
    "\n",
    "print(np.sort(arr)) "
   ]
  },
  {
   "cell_type": "code",
   "execution_count": null,
   "id": "2aaa9c4e",
   "metadata": {},
   "outputs": [],
   "source": []
  }
 ],
 "metadata": {
  "kernelspec": {
   "display_name": "Python 3 (ipykernel)",
   "language": "python",
   "name": "python3"
  },
  "language_info": {
   "codemirror_mode": {
    "name": "ipython",
    "version": 3
   },
   "file_extension": ".py",
   "mimetype": "text/x-python",
   "name": "python",
   "nbconvert_exporter": "python",
   "pygments_lexer": "ipython3",
   "version": "3.9.13"
  }
 },
 "nbformat": 4,
 "nbformat_minor": 5
}
